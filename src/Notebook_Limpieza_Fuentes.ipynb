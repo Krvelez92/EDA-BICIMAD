{
 "cells": [
  {
   "cell_type": "code",
   "execution_count": 22,
   "metadata": {},
   "outputs": [],
   "source": [
    "import pandas as pd\n",
    "import utils as u"
   ]
  },
  {
   "cell_type": "markdown",
   "metadata": {},
   "source": [
    "# URL 1: Alta de usuarios y usos por día del servicio público de bicicleta eléctrica"
   ]
  },
  {
   "cell_type": "markdown",
   "metadata": {},
   "source": [
    "### Alta Usuarios"
   ]
  },
  {
   "cell_type": "code",
   "execution_count": 23,
   "metadata": {},
   "outputs": [],
   "source": [
    "usuario_abonos_anual = pd.read_excel('./data/Datos Originales/bicis_usuarios_abonos_202210.xlsx', sheet_name='Abono anual activos')\n",
    "usuario_abonos_ocacional = pd.read_excel('./data/Datos Originales/bicis_usuarios_abonos_202210.xlsx', sheet_name='Abono ocasional datos')"
   ]
  },
  {
   "cell_type": "code",
   "execution_count": 24,
   "metadata": {},
   "outputs": [],
   "source": [
    "#Usuarios Abonos Anual\n",
    "usuario_abonos_anual.dropna(axis=0, how='all', inplace=True)\n",
    "usuario_abonos_anual.dropna(axis=1, how='all', inplace=True)\n",
    "\n",
    "#Usuarios Abonos Ocacional\n",
    "usuario_abonos_ocacional.dropna(axis=0, how='all', inplace=True)\n",
    "usuario_abonos_ocacional.dropna(axis=1, how='all', inplace=True)"
   ]
  },
  {
   "cell_type": "code",
   "execution_count": 25,
   "metadata": {},
   "outputs": [],
   "source": [
    "usuario_abonos_anual_2022 = usuario_abonos_anual[usuario_abonos_anual['Año']==2022].reset_index(drop=True)\n",
    "usuario_abonos_ocacional_2022 = usuario_abonos_ocacional[usuario_abonos_ocacional['Año']==2022].reset_index(drop=True)"
   ]
  },
  {
   "cell_type": "code",
   "execution_count": 26,
   "metadata": {},
   "outputs": [],
   "source": [
    "usuario_abonos_anual_2022 = usuario_abonos_anual_2022[['Año', \n",
    "                                                       'Mes', \n",
    "                                                       'Día', \n",
    "                                                       'Altas nuevos usuarios activos ab. anual total día', \n",
    "                                                       'Altas nuevos usuarios ab. anual total acumulado mes']]\n",
    "\n",
    "usuario_abonos_anual_2022.rename(columns={'Altas nuevos usuarios activos ab. anual total día': 'alta_ab_anual_dia',\n",
    "                                        'Altas nuevos usuarios ab. anual total acumulado mes': 'alta_ab_anual_mes',\n",
    "                                        'Año':'anio',\n",
    "                                        'Día':'fecha'}, inplace=True)"
   ]
  },
  {
   "cell_type": "code",
   "execution_count": 27,
   "metadata": {},
   "outputs": [],
   "source": [
    "usuario_abonos_ocacional_2022 = usuario_abonos_ocacional_2022[['Año', \n",
    "                                                                'Mes', \n",
    "                                                                'Día', \n",
    "                                                                'Nuevos usuarios abono 1 día ', \n",
    "                                                                'Nuevos usuarios abono 3 días ',\n",
    "                                                                'Nuevos usuarios abono 5 días ',\n",
    "                                                                'Nuevos usuarios abono ocas. total',\n",
    "                                                                'Usuarios abono 1 día acumulado mes',\n",
    "                                                                'Usuarios abono 3 días acumulado mes',\n",
    "                                                                'Usuarios abono 5 días acumulado mes',\n",
    "                                                                'Usuarios abono ocasional total mes']]\n",
    "\n",
    "usuario_abonos_ocacional_2022.rename(columns={'Nuevos usuarios abono 1 día ': 'alta_ab_1d_dia',\n",
    "                                        'Nuevos usuarios abono 3 días ': 'alta_ab_3d_dia',\n",
    "                                        'Nuevos usuarios abono 5 días ': 'alta_ab_5d_dia',\n",
    "                                        'Nuevos usuarios abono ocas. total': 'alta_ab_ocas_dia',\n",
    "                                        'Usuarios abono 1 día acumulado mes': 'alta_ab_1d_mes',\n",
    "                                        'Usuarios abono 3 días acumulado mes': 'alta_ab_3d_mes',\n",
    "                                        'Usuarios abono 5 días acumulado mes': 'alta_ab_5d_mes',\n",
    "                                        'Usuarios abono ocasional total mes': 'alta_ab_ocas_mes',\n",
    "                                        'Año':'anio',\n",
    "                                        'Día':'fecha'}, inplace=True)"
   ]
  },
  {
   "cell_type": "code",
   "execution_count": 28,
   "metadata": {},
   "outputs": [],
   "source": [
    "usuarios = pd.merge(usuario_abonos_anual_2022, usuario_abonos_ocacional_2022, on='fecha', )\n",
    "\n",
    "usuarios.drop(['anio_y', 'Mes_y'], axis=1, inplace=True)\n",
    "\n",
    "usuarios.rename(columns={'anio_x':'anio',\n",
    "                         'Mes_x': 'mes'}, inplace=True)"
   ]
  },
  {
   "cell_type": "code",
   "execution_count": 29,
   "metadata": {},
   "outputs": [],
   "source": [
    "usuarios.to_csv('./data/Datos Tratados/usuarios_bici_resumen_2022.csv', index=False)"
   ]
  },
  {
   "cell_type": "markdown",
   "metadata": {},
   "source": [
    "### Uso por dia"
   ]
  },
  {
   "cell_type": "code",
   "execution_count": 30,
   "metadata": {},
   "outputs": [],
   "source": [
    "uso_bicicletas = pd.read_excel('./data/Datos Originales/bicis_usos_acumulado_202210.xlsx', sheet_name='Tabla usos')"
   ]
  },
  {
   "cell_type": "code",
   "execution_count": 31,
   "metadata": {},
   "outputs": [],
   "source": [
    "uso_bicicletas.dropna(axis=0, how='all', inplace=True)\n",
    "uso_bicicletas.dropna(axis=1, how='all', inplace=True)\n",
    "uso_bicicletas.drop(columns='Unnamed: 21', inplace=True)"
   ]
  },
  {
   "cell_type": "code",
   "execution_count": 32,
   "metadata": {},
   "outputs": [],
   "source": [
    "uso_bicicletas_2022 = uso_bicicletas[uso_bicicletas['Año'] == 2022].reset_index(drop=True)\n",
    "uso_bicicletas_2022 = uso_bicicletas_2022.iloc[:, :9]\n",
    "uso_bicicletas_2022.rename(columns={'Año':'anio',\n",
    "                                    'DIA':'fecha',\n",
    "                                    'Mes': 'mes',\n",
    "                                    'Usos bicis abono anual día': 'uso_ab_anual_dia',\n",
    "                                    'Usos bicis abono ocasional día':'uso_ab_ocas_dia',\n",
    "                                    'Usos bicis total día':'uso_ab_total_dia',\n",
    "                                    'Usos bicis abono anual acumulado mes':'uso_ab_anual_mes',\n",
    "                                    'Usos bicis abono ocasional acumulado mes':'uso_ab_ocas_mes',\n",
    "                                    'Usos bicis total acumulado mes':'uso_ab_total_mes'}, inplace=True)"
   ]
  },
  {
   "cell_type": "code",
   "execution_count": 33,
   "metadata": {},
   "outputs": [],
   "source": [
    "uso_bicicletas_2022.to_csv('./data/Datos Tratados/uso_bici_resumen_2022.csv', index=False)"
   ]
  },
  {
   "cell_type": "markdown",
   "metadata": {},
   "source": [
    "# URL 2: BiciMAD. Datos de la situación de estaciones bicimad por día y hora"
   ]
  },
  {
   "cell_type": "code",
   "execution_count": 34,
   "metadata": {},
   "outputs": [],
   "source": [
    "sit_estaciones = u.call_situacion_estaciones()"
   ]
  },
  {
   "cell_type": "code",
   "execution_count": 35,
   "metadata": {},
   "outputs": [],
   "source": [
    "sit_estaciones = sit_estaciones.loc[:,['_id', 'id', 'number', 'name', 'activate', 'light', 'total_bases', 'free_bases', 'dock_bikes', 'reservations_count']]\n",
    "sit_estaciones.rename(columns={'_id':'fecha_hora',\n",
    "                               'id':'id_estacion',\n",
    "                               'number':'cod_estacion',\n",
    "                               'name':'des_estacion'}, inplace=True)"
   ]
  },
  {
   "cell_type": "code",
   "execution_count": 36,
   "metadata": {},
   "outputs": [],
   "source": [
    "sit_estaciones.to_csv('./data/Datos Tratados/sit_estaciones_2022.csv', index=False)"
   ]
  },
  {
   "cell_type": "markdown",
   "metadata": {},
   "source": [
    "# URL 3: BiciMAD. Datos de los itinerarios de las bicicletas eléctricas"
   ]
  },
  {
   "cell_type": "code",
   "execution_count": 37,
   "metadata": {},
   "outputs": [],
   "source": [
    "intinerarios_bicicletas_2022 = u.call_uso_bicicletas()"
   ]
  },
  {
   "cell_type": "code",
   "execution_count": 38,
   "metadata": {},
   "outputs": [],
   "source": [
    "localizaciones = ['geolocation_unlock', 'geolocation_lock']\n",
    "\n",
    "for campo in localizaciones:\n",
    "    subindice = campo.split('_')[1]\n",
    "    lon_list = []\n",
    "    lat_list = []\n",
    "    for i in intinerarios_bicicletas_2022.loc[:, campo]:\n",
    "        valor1 = i.split(\"'coordinates': [\")[1]\n",
    "        valor2 = valor1.replace(']}', '')\n",
    "        lon, lat = valor2.split(',')\n",
    "        lon_list.append(lon)\n",
    "        lat_list.append(lat)\n",
    "    campolon = 'lon'+'_'+ subindice\n",
    "    campolat = 'lat'+'_'+ subindice\n",
    "    intinerarios_bicicletas_2022[campolon] = lon_list\n",
    "    intinerarios_bicicletas_2022[campolat] = lat_list"
   ]
  },
  {
   "cell_type": "code",
   "execution_count": 39,
   "metadata": {},
   "outputs": [],
   "source": [
    "intinerarios_bicicletas_2022.drop(columns=['geolocation_unlock', \n",
    "                                           'geolocation_lock', \n",
    "                                           'fleet', \n",
    "                                           'address_unlock', \n",
    "                                           'locktype', \n",
    "                                           'unlocktype', \n",
    "                                           'idBike',\n",
    "                                           'idTrip'], axis=1)\n",
    "\n",
    "intinerarios_bicicletas_2022 = intinerarios_bicicletas_2022.loc[:, ['fecha', \n",
    "                                                                    'trip_minutes',\n",
    "                                                                    'unlock_date',\n",
    "                                                                    'lon_unlock',\n",
    "                                                                    'lat_unlock',\n",
    "                                                                    'station_unlock',\n",
    "                                                                    'dock_unlock',\n",
    "                                                                    'unlock_station_name',\n",
    "                                                                    'lock_date',\n",
    "                                                                    'lon_lock',\n",
    "                                                                    'lat_lock',\n",
    "                                                                    'station_lock',\n",
    "                                                                    'dock_lock',\n",
    "                                                                    'lock_station_name']]"
   ]
  },
  {
   "cell_type": "code",
   "execution_count": 40,
   "metadata": {},
   "outputs": [],
   "source": [
    "intinerarios_bicicletas_2022.to_csv('./data/Datos Tratados/intinerarios_bicicletas_2022.csv', index=False)"
   ]
  },
  {
   "cell_type": "markdown",
   "metadata": {},
   "source": [
    "## URL 4: BiciMAD. Bases del servicio público de bicicleta eléctrica de la ciudad de Madrid"
   ]
  },
  {
   "cell_type": "code",
   "execution_count": 41,
   "metadata": {},
   "outputs": [],
   "source": [
    "mapa_bases = pd.read_csv('./data/Datos Originales/bases_bicimad.csv', sep=';')\n",
    "mapa_bases['Fecha de Alta'] = mapa_bases['Fecha de Alta'].apply(lambda x: u.convertir_fecha(x))\n",
    "mapa_bases.drop(['Gis_X', 'Gis_Y'], axis=1, inplace=True)\n",
    "mapa_bases.sort_values(by='Fecha de Alta', inplace=True, ignore_index=True)"
   ]
  },
  {
   "cell_type": "code",
   "execution_count": 42,
   "metadata": {},
   "outputs": [],
   "source": [
    "mapa_bases.to_csv('./data/Datos Tratados/mapa_bases_bicicletas.csv', index=False)"
   ]
  },
  {
   "cell_type": "markdown",
   "metadata": {},
   "source": [
    "## URL 5: BiciMAD. Disponibilidad de unidades (bicicletas) del servicio público de bicicleta eléctrica"
   ]
  },
  {
   "cell_type": "code",
   "execution_count": 43,
   "metadata": {},
   "outputs": [],
   "source": [
    "dispo_bicis = pd.read_csv('./data/Datos Originales/bici_disponibilidad20221031.csv', sep=';')\n",
    "dispo_bicis.dropna(how='all', inplace=True)\n",
    "dispo_bicis.to_csv('./data/Datos Tratados/dispo_bicis_2022.csv', index=False)"
   ]
  },
  {
   "cell_type": "markdown",
   "metadata": {},
   "source": [
    "## URL 6: Afor de Personas y Bicicletas"
   ]
  },
  {
   "cell_type": "markdown",
   "metadata": {},
   "source": [
    "### Bicicletas"
   ]
  },
  {
   "cell_type": "code",
   "execution_count": 44,
   "metadata": {},
   "outputs": [],
   "source": [
    "aforo_bicicletas_2022 = pd.read_csv('./data/Datos Originales/Aforo Personas y Bicicletas/BICICLETAS_2022.csv', sep=';')\n",
    "aforo_bicicletas_2022.drop(axis=1,\n",
    "                         columns=['observaciones_direccion',\n",
    "                                  'identificador',\n",
    "                                  'device_id',\n",
    "                                  'NÃºmero_distrito',\n",
    "                                  'distrito',\n",
    "                                  'hora'], inplace=True)"
   ]
  },
  {
   "cell_type": "code",
   "execution_count": 45,
   "metadata": {},
   "outputs": [],
   "source": [
    "aforo_bicicletas_2022.to_csv('./data/Datos Tratados/aforo_bicicletas_2022.csv', index=False)"
   ]
  },
  {
   "cell_type": "markdown",
   "metadata": {},
   "source": [
    "### Personas"
   ]
  },
  {
   "cell_type": "code",
   "execution_count": 46,
   "metadata": {},
   "outputs": [],
   "source": [
    "aforo_personas_2022 = pd.read_csv('./data/Datos Originales/Aforo Personas y Bicicletas/PEATONES_2022.csv', sep=';')\n",
    "aforo_personas_2022.drop(axis=1,\n",
    "                         columns=['observaciones_direccion',\n",
    "                                  'identificador',\n",
    "                                  'device_id',\n",
    "                                  'NÃºmero_distrito',\n",
    "                                  'distrito',\n",
    "                                  'hora'], inplace=True)"
   ]
  },
  {
   "cell_type": "code",
   "execution_count": 47,
   "metadata": {},
   "outputs": [],
   "source": [
    "aforo_personas_2022.to_csv('./data/Datos Tratados/aforo_personas_2022.csv', index=False)"
   ]
  },
  {
   "cell_type": "code",
   "execution_count": null,
   "metadata": {},
   "outputs": [],
   "source": []
  }
 ],
 "metadata": {
  "kernelspec": {
   "display_name": "Python 3",
   "language": "python",
   "name": "python3"
  },
  "language_info": {
   "codemirror_mode": {
    "name": "ipython",
    "version": 3
   },
   "file_extension": ".py",
   "mimetype": "text/x-python",
   "name": "python",
   "nbconvert_exporter": "python",
   "pygments_lexer": "ipython3",
   "version": "3.13.1"
  }
 },
 "nbformat": 4,
 "nbformat_minor": 2
}
