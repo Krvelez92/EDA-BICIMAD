{
 "cells": [
  {
   "cell_type": "markdown",
   "metadata": {},
   "source": [
    "# Librerias"
   ]
  },
  {
   "cell_type": "code",
   "execution_count": 23,
   "metadata": {},
   "outputs": [],
   "source": [
    "import pandas as pd\n",
    "import utils as u\n",
    "from datetime import datetime, timedelta"
   ]
  },
  {
   "cell_type": "markdown",
   "metadata": {},
   "source": [
    "# URL 1: Alta de usuarios y usos por día del servicio público de bicicleta eléctrica"
   ]
  },
  {
   "cell_type": "markdown",
   "metadata": {},
   "source": [
    "### Alta Usuarios"
   ]
  },
  {
   "cell_type": "markdown",
   "metadata": {},
   "source": [
    "Limpieza de las bases de usuarios: datos historicos de usuario con sus altas y bajas."
   ]
  },
  {
   "cell_type": "code",
   "execution_count": 24,
   "metadata": {},
   "outputs": [],
   "source": [
    "# Lectura de csv\n",
    "\n",
    "usuario_abonos_anual = pd.read_excel('../data/Datos Originales/bicis_usuarios_abonos_202210.xlsx', sheet_name='Abono anual activos')\n",
    "usuario_abonos_ocacional = pd.read_excel('../data/Datos Originales/bicis_usuarios_abonos_202210.xlsx', sheet_name='Abono ocasional datos')"
   ]
  },
  {
   "cell_type": "code",
   "execution_count": 25,
   "metadata": {},
   "outputs": [],
   "source": [
    "#Usuarios Abonos Anual --> Limpieza de NAN\n",
    "usuario_abonos_anual.dropna(axis=0, how='all', inplace=True)\n",
    "usuario_abonos_anual.dropna(axis=1, how='all', inplace=True)\n",
    "\n",
    "#Usuarios Abonos Ocacional --> Limpieza de NAN\n",
    "usuario_abonos_ocacional.dropna(axis=0, how='all', inplace=True)\n",
    "usuario_abonos_ocacional.dropna(axis=1, how='all', inplace=True)"
   ]
  },
  {
   "cell_type": "markdown",
   "metadata": {},
   "source": [
    "Para estos datos vamos a enforcarnos solo en el año 2022, filtamos los Dataframe para el año."
   ]
  },
  {
   "cell_type": "code",
   "execution_count": 26,
   "metadata": {},
   "outputs": [],
   "source": [
    "# Crear df para el 2022\n",
    "\n",
    "usuario_abonos_anual_2022 = usuario_abonos_anual[usuario_abonos_anual['Año']==2022].reset_index(drop=True)\n",
    "usuario_abonos_ocacional_2022 = usuario_abonos_ocacional[usuario_abonos_ocacional['Año']==2022].reset_index(drop=True)"
   ]
  },
  {
   "cell_type": "code",
   "execution_count": 27,
   "metadata": {},
   "outputs": [],
   "source": [
    "# Filtramos las columnas que nos interesan y las renombramos para que tengan un nombre más amigable en los abonos anuales.\n",
    "\n",
    "usuario_abonos_anual_2022 = usuario_abonos_anual_2022[['Año', \n",
    "                                                       'Mes', \n",
    "                                                       'Día', \n",
    "                                                       'Altas nuevos usuarios activos ab. anual total día', \n",
    "                                                       'Altas nuevos usuarios ab. anual total acumulado mes',\n",
    "                                                       'Usuarios activos ab. anual total acumulado desde inicio']]\n",
    "\n",
    "usuario_abonos_anual_2022.rename(columns={'Altas nuevos usuarios activos ab. anual total día': 'alta_ab_anual_dia',\n",
    "                                        'Altas nuevos usuarios ab. anual total acumulado mes': 'alta_ab_anual_mes',\n",
    "                                        'Año':'anio',\n",
    "                                        'Día':'fecha',\n",
    "                                        'Usuarios activos ab. anual total acumulado desde inicio':'ab_anual_total'}, inplace=True)"
   ]
  },
  {
   "cell_type": "code",
   "execution_count": 28,
   "metadata": {},
   "outputs": [],
   "source": [
    "# Filtramos las columnas que nos interesan y las renombramos para que tengan un nombre más amigable en los abonos ocasionales.\n",
    "\n",
    "usuario_abonos_ocacional_2022 = usuario_abonos_ocacional_2022[['Año', \n",
    "                                                                'Mes', \n",
    "                                                                'Día', \n",
    "                                                                'Nuevos usuarios abono 1 día ', \n",
    "                                                                'Nuevos usuarios abono 3 días ',\n",
    "                                                                'Nuevos usuarios abono 5 días ',\n",
    "                                                                'Nuevos usuarios abono ocas. total',\n",
    "                                                                'Usuarios abono 1 día acumulado mes',\n",
    "                                                                'Usuarios abono 3 días acumulado mes',\n",
    "                                                                'Usuarios abono 5 días acumulado mes',\n",
    "                                                                'Usuarios abono ocasional total mes',\n",
    "                                                                'Usuarios abono 1 día acumulado de inicio',\n",
    "                                                                'Usuarios abono 3 días acumulado de inicio',\n",
    "                                                                'Usuarios abono 5 días acumulado de inicio',\n",
    "                                                                'Usuarios abono ocasional total de inicio']]\n",
    "\n",
    "usuario_abonos_ocacional_2022.rename(columns={'Nuevos usuarios abono 1 día ': 'alta_ab_1d_dia',\n",
    "                                        'Nuevos usuarios abono 3 días ': 'alta_ab_3d_dia',\n",
    "                                        'Nuevos usuarios abono 5 días ': 'alta_ab_5d_dia',\n",
    "                                        'Nuevos usuarios abono ocas. total': 'alta_ab_ocas_dia',\n",
    "                                        'Usuarios abono 1 día acumulado mes': 'alta_ab_1d_mes',\n",
    "                                        'Usuarios abono 3 días acumulado mes': 'alta_ab_3d_mes',\n",
    "                                        'Usuarios abono 5 días acumulado mes': 'alta_ab_5d_mes',\n",
    "                                        'Usuarios abono ocasional total mes': 'alta_ab_ocas_mes',\n",
    "                                        'Usuarios abono 1 día acumulado de inicio': 'ab_1d_total',\n",
    "                                        'Usuarios abono 3 días acumulado de inicio': 'ab_3d_total',\n",
    "                                        'Usuarios abono 5 días acumulado de inicio': 'ab_5d_total',\n",
    "                                        'Usuarios abono ocasional total de inicio': 'ab_ocas_total',\n",
    "                                        'Año':'anio',\n",
    "                                        'Día':'fecha'}, inplace=True)"
   ]
  },
  {
   "cell_type": "markdown",
   "metadata": {},
   "source": [
    "Una vez limpias las bases vamos a unificar todo en un dataframe."
   ]
  },
  {
   "cell_type": "code",
   "execution_count": 29,
   "metadata": {},
   "outputs": [],
   "source": [
    "''' \n",
    "Union de las dos fuentes por la fecha, nos quedamos solos con los campos de fecha de usuario_abonos_anual_2022\n",
    "\n",
    "- Quitamos columnas duplicadas por el merge.\n",
    "- Renombramos columnas.\n",
    "\n",
    "'''\n",
    "\n",
    "usuarios = pd.merge(usuario_abonos_anual_2022, usuario_abonos_ocacional_2022, on='fecha')\n",
    "\n",
    "usuarios.drop(['anio_y', 'Mes_y'], axis=1, inplace=True)\n",
    "\n",
    "usuarios.rename(columns={'anio_x':'anio',\n",
    "                         'Mes_x': 'mes'}, inplace=True)"
   ]
  },
  {
   "cell_type": "markdown",
   "metadata": {},
   "source": [
    "Una vez unificadas la fuentes vamos a evaluar el tipo de dato y si tienen nulos o no."
   ]
  },
  {
   "cell_type": "code",
   "execution_count": 30,
   "metadata": {},
   "outputs": [
    {
     "data": {
      "text/plain": [
       "anio                 False\n",
       "mes                  False\n",
       "fecha                False\n",
       "alta_ab_anual_dia    False\n",
       "alta_ab_anual_mes    False\n",
       "ab_anual_total       False\n",
       "alta_ab_1d_dia       False\n",
       "alta_ab_3d_dia       False\n",
       "alta_ab_5d_dia       False\n",
       "alta_ab_ocas_dia     False\n",
       "alta_ab_1d_mes       False\n",
       "alta_ab_3d_mes       False\n",
       "alta_ab_5d_mes       False\n",
       "alta_ab_ocas_mes     False\n",
       "ab_1d_total          False\n",
       "ab_3d_total          False\n",
       "ab_5d_total          False\n",
       "ab_ocas_total        False\n",
       "dtype: bool"
      ]
     },
     "execution_count": 30,
     "metadata": {},
     "output_type": "execute_result"
    }
   ],
   "source": [
    "# Ninguna variable tienen nulls\n",
    "\n",
    "usuarios.isnull().any()"
   ]
  },
  {
   "cell_type": "code",
   "execution_count": 31,
   "metadata": {},
   "outputs": [],
   "source": [
    "''' \n",
    "Para nuestra analítica creamos columnas de fechas para poder trabajabar sobre todo la estacionalidad.\n",
    "- Día de la semana: El número de día sabiendo que 0 es domingo y 6 es sabado.\n",
    "- Fin de Semana: Variable binaria que indica si el día es sabado o domingo.\n",
    "\n",
    "'''\n",
    "\n",
    "usuarios['dia_semana'] = [int(str(datetime.strftime(i, '%w'))) for i in usuarios['fecha']]\n",
    "usuarios['fin_semana'] = [1 if i in [0, 6] else 0 for i in usuarios['dia_semana']]"
   ]
  },
  {
   "cell_type": "code",
   "execution_count": 32,
   "metadata": {},
   "outputs": [],
   "source": [
    "# Reordenamos las columnas \n",
    "\n",
    "usuarios = usuarios.loc[:, ['anio', \n",
    "                            'mes', \n",
    "                            'fecha',\n",
    "                            'dia_semana',\n",
    "                            'fin_semana', \n",
    "                            'alta_ab_anual_dia', \n",
    "                            'alta_ab_anual_mes',\n",
    "                            'alta_ab_1d_dia', \n",
    "                            'alta_ab_3d_dia', \n",
    "                            'alta_ab_5d_dia',\n",
    "                            'alta_ab_ocas_dia', \n",
    "                            'alta_ab_1d_mes', \n",
    "                            'alta_ab_3d_mes',\n",
    "                            'alta_ab_5d_mes', \n",
    "                            'alta_ab_ocas_mes',\n",
    "                            'ab_anual_total',\n",
    "                            'ab_1d_total',\n",
    "                            'ab_3d_total',\n",
    "                            'ab_5d_total',\n",
    "                            'ab_ocas_total']]"
   ]
  },
  {
   "cell_type": "code",
   "execution_count": 33,
   "metadata": {},
   "outputs": [],
   "source": [
    "# Convertimos en enteros las variables desde la columna 5 al final.\n",
    "\n",
    "for i in usuarios.iloc[:, 5:]:\n",
    "    usuarios[i] = [int(x) for x in usuarios[i]]"
   ]
  },
  {
   "cell_type": "code",
   "execution_count": 34,
   "metadata": {},
   "outputs": [
    {
     "data": {
      "text/plain": [
       "anio                          int64\n",
       "mes                           int64\n",
       "fecha                datetime64[ns]\n",
       "dia_semana                    int64\n",
       "fin_semana                    int64\n",
       "alta_ab_anual_dia             int64\n",
       "alta_ab_anual_mes             int64\n",
       "alta_ab_1d_dia                int64\n",
       "alta_ab_3d_dia                int64\n",
       "alta_ab_5d_dia                int64\n",
       "alta_ab_ocas_dia              int64\n",
       "alta_ab_1d_mes                int64\n",
       "alta_ab_3d_mes                int64\n",
       "alta_ab_5d_mes                int64\n",
       "alta_ab_ocas_mes              int64\n",
       "ab_anual_total                int64\n",
       "ab_1d_total                   int64\n",
       "ab_3d_total                   int64\n",
       "ab_5d_total                   int64\n",
       "ab_ocas_total                 int64\n",
       "dtype: object"
      ]
     },
     "execution_count": 34,
     "metadata": {},
     "output_type": "execute_result"
    }
   ],
   "source": [
    "# Cambios de tipos de variables\n",
    "\n",
    "usuarios.dtypes"
   ]
  },
  {
   "cell_type": "code",
   "execution_count": 35,
   "metadata": {},
   "outputs": [
    {
     "data": {
      "text/html": [
       "<div>\n",
       "<style scoped>\n",
       "    .dataframe tbody tr th:only-of-type {\n",
       "        vertical-align: middle;\n",
       "    }\n",
       "\n",
       "    .dataframe tbody tr th {\n",
       "        vertical-align: top;\n",
       "    }\n",
       "\n",
       "    .dataframe thead th {\n",
       "        text-align: right;\n",
       "    }\n",
       "</style>\n",
       "<table border=\"1\" class=\"dataframe\">\n",
       "  <thead>\n",
       "    <tr style=\"text-align: right;\">\n",
       "      <th></th>\n",
       "      <th>anio</th>\n",
       "      <th>mes</th>\n",
       "      <th>fecha</th>\n",
       "      <th>dia_semana</th>\n",
       "      <th>fin_semana</th>\n",
       "      <th>alta_ab_anual_dia</th>\n",
       "      <th>alta_ab_anual_mes</th>\n",
       "      <th>alta_ab_1d_dia</th>\n",
       "      <th>alta_ab_3d_dia</th>\n",
       "      <th>alta_ab_5d_dia</th>\n",
       "      <th>alta_ab_ocas_dia</th>\n",
       "      <th>alta_ab_1d_mes</th>\n",
       "      <th>alta_ab_3d_mes</th>\n",
       "      <th>alta_ab_5d_mes</th>\n",
       "      <th>alta_ab_ocas_mes</th>\n",
       "      <th>ab_anual_total</th>\n",
       "      <th>ab_1d_total</th>\n",
       "      <th>ab_3d_total</th>\n",
       "      <th>ab_5d_total</th>\n",
       "      <th>ab_ocas_total</th>\n",
       "    </tr>\n",
       "  </thead>\n",
       "  <tbody>\n",
       "    <tr>\n",
       "      <th>0</th>\n",
       "      <td>2022</td>\n",
       "      <td>1</td>\n",
       "      <td>2022-01-01</td>\n",
       "      <td>6</td>\n",
       "      <td>1</td>\n",
       "      <td>-16</td>\n",
       "      <td>-16</td>\n",
       "      <td>36</td>\n",
       "      <td>4</td>\n",
       "      <td>1</td>\n",
       "      <td>41</td>\n",
       "      <td>36</td>\n",
       "      <td>4</td>\n",
       "      <td>1</td>\n",
       "      <td>41</td>\n",
       "      <td>67986</td>\n",
       "      <td>147719</td>\n",
       "      <td>14062</td>\n",
       "      <td>6522</td>\n",
       "      <td>168303</td>\n",
       "    </tr>\n",
       "    <tr>\n",
       "      <th>1</th>\n",
       "      <td>2022</td>\n",
       "      <td>1</td>\n",
       "      <td>2022-01-02</td>\n",
       "      <td>0</td>\n",
       "      <td>1</td>\n",
       "      <td>19</td>\n",
       "      <td>3</td>\n",
       "      <td>22</td>\n",
       "      <td>1</td>\n",
       "      <td>0</td>\n",
       "      <td>23</td>\n",
       "      <td>58</td>\n",
       "      <td>5</td>\n",
       "      <td>1</td>\n",
       "      <td>64</td>\n",
       "      <td>68005</td>\n",
       "      <td>147741</td>\n",
       "      <td>14063</td>\n",
       "      <td>6522</td>\n",
       "      <td>168326</td>\n",
       "    </tr>\n",
       "    <tr>\n",
       "      <th>2</th>\n",
       "      <td>2022</td>\n",
       "      <td>1</td>\n",
       "      <td>2022-01-03</td>\n",
       "      <td>1</td>\n",
       "      <td>0</td>\n",
       "      <td>15</td>\n",
       "      <td>18</td>\n",
       "      <td>12</td>\n",
       "      <td>1</td>\n",
       "      <td>2</td>\n",
       "      <td>15</td>\n",
       "      <td>70</td>\n",
       "      <td>6</td>\n",
       "      <td>3</td>\n",
       "      <td>79</td>\n",
       "      <td>68020</td>\n",
       "      <td>147753</td>\n",
       "      <td>14064</td>\n",
       "      <td>6524</td>\n",
       "      <td>168341</td>\n",
       "    </tr>\n",
       "    <tr>\n",
       "      <th>3</th>\n",
       "      <td>2022</td>\n",
       "      <td>1</td>\n",
       "      <td>2022-01-04</td>\n",
       "      <td>2</td>\n",
       "      <td>0</td>\n",
       "      <td>-27</td>\n",
       "      <td>-9</td>\n",
       "      <td>2</td>\n",
       "      <td>0</td>\n",
       "      <td>0</td>\n",
       "      <td>2</td>\n",
       "      <td>72</td>\n",
       "      <td>6</td>\n",
       "      <td>3</td>\n",
       "      <td>81</td>\n",
       "      <td>67993</td>\n",
       "      <td>147755</td>\n",
       "      <td>14064</td>\n",
       "      <td>6524</td>\n",
       "      <td>168343</td>\n",
       "    </tr>\n",
       "    <tr>\n",
       "      <th>4</th>\n",
       "      <td>2022</td>\n",
       "      <td>1</td>\n",
       "      <td>2022-01-05</td>\n",
       "      <td>3</td>\n",
       "      <td>0</td>\n",
       "      <td>-37</td>\n",
       "      <td>-46</td>\n",
       "      <td>3</td>\n",
       "      <td>0</td>\n",
       "      <td>0</td>\n",
       "      <td>3</td>\n",
       "      <td>75</td>\n",
       "      <td>6</td>\n",
       "      <td>3</td>\n",
       "      <td>84</td>\n",
       "      <td>67956</td>\n",
       "      <td>147758</td>\n",
       "      <td>14064</td>\n",
       "      <td>6524</td>\n",
       "      <td>168346</td>\n",
       "    </tr>\n",
       "  </tbody>\n",
       "</table>\n",
       "</div>"
      ],
      "text/plain": [
       "   anio  mes      fecha  dia_semana  fin_semana  alta_ab_anual_dia  \\\n",
       "0  2022    1 2022-01-01           6           1                -16   \n",
       "1  2022    1 2022-01-02           0           1                 19   \n",
       "2  2022    1 2022-01-03           1           0                 15   \n",
       "3  2022    1 2022-01-04           2           0                -27   \n",
       "4  2022    1 2022-01-05           3           0                -37   \n",
       "\n",
       "   alta_ab_anual_mes  alta_ab_1d_dia  alta_ab_3d_dia  alta_ab_5d_dia  \\\n",
       "0                -16              36               4               1   \n",
       "1                  3              22               1               0   \n",
       "2                 18              12               1               2   \n",
       "3                 -9               2               0               0   \n",
       "4                -46               3               0               0   \n",
       "\n",
       "   alta_ab_ocas_dia  alta_ab_1d_mes  alta_ab_3d_mes  alta_ab_5d_mes  \\\n",
       "0                41              36               4               1   \n",
       "1                23              58               5               1   \n",
       "2                15              70               6               3   \n",
       "3                 2              72               6               3   \n",
       "4                 3              75               6               3   \n",
       "\n",
       "   alta_ab_ocas_mes  ab_anual_total  ab_1d_total  ab_3d_total  ab_5d_total  \\\n",
       "0                41           67986       147719        14062         6522   \n",
       "1                64           68005       147741        14063         6522   \n",
       "2                79           68020       147753        14064         6524   \n",
       "3                81           67993       147755        14064         6524   \n",
       "4                84           67956       147758        14064         6524   \n",
       "\n",
       "   ab_ocas_total  \n",
       "0         168303  \n",
       "1         168326  \n",
       "2         168341  \n",
       "3         168343  \n",
       "4         168346  "
      ]
     },
     "execution_count": 35,
     "metadata": {},
     "output_type": "execute_result"
    }
   ],
   "source": [
    "usuarios.head()"
   ]
  },
  {
   "cell_type": "code",
   "execution_count": 36,
   "metadata": {},
   "outputs": [],
   "source": [
    "# Base de datos tratado de usuario en el 2022.\n",
    "\n",
    "usuarios.to_csv('../data/Datos Tratados/usuarios_bici_resumen_2022.csv', index=False)"
   ]
  },
  {
   "cell_type": "markdown",
   "metadata": {},
   "source": [
    "### Uso por dia"
   ]
  },
  {
   "cell_type": "code",
   "execution_count": 37,
   "metadata": {},
   "outputs": [],
   "source": [
    "# Lectura de csv\n",
    "\n",
    "uso_bicicletas = pd.read_excel('../data/Datos Originales/bicis_usos_acumulado_202210.xlsx', sheet_name='Tabla usos')"
   ]
  },
  {
   "cell_type": "code",
   "execution_count": 38,
   "metadata": {},
   "outputs": [],
   "source": [
    "# Uso Abonos --> Limpieza de NAN\n",
    "\n",
    "uso_bicicletas.dropna(axis=0, how='all', inplace=True)\n",
    "uso_bicicletas.dropna(axis=1, how='all', inplace=True)\n",
    "uso_bicicletas.drop(columns='Unnamed: 21', inplace=True)"
   ]
  },
  {
   "cell_type": "markdown",
   "metadata": {},
   "source": [
    "Para estos datos vamos a enforcarnos solo en el año 2022, filtamos los Dataframe para el año."
   ]
  },
  {
   "cell_type": "code",
   "execution_count": 39,
   "metadata": {},
   "outputs": [],
   "source": [
    "# Filtramos las columnas que nos interesan, año y las renombramos para que tengan un nombre más amigable.\n",
    "\n",
    "uso_bicicletas_2022 = uso_bicicletas[uso_bicicletas['Año'] == 2022].reset_index(drop=True)\n",
    "uso_bicicletas_2022 = uso_bicicletas_2022.iloc[:, :9]\n",
    "uso_bicicletas_2022.rename(columns={'Año':'anio',\n",
    "                                    'DIA':'fecha',\n",
    "                                    'Mes': 'mes',\n",
    "                                    'Usos bicis abono anual día': 'uso_ab_anual_dia',\n",
    "                                    'Usos bicis abono ocasional día':'uso_ab_ocas_dia',\n",
    "                                    'Usos bicis total día':'uso_ab_total_dia',\n",
    "                                    'Usos bicis abono anual acumulado mes':'uso_ab_anual_mes',\n",
    "                                    'Usos bicis abono ocasional acumulado mes':'uso_ab_ocas_mes',\n",
    "                                    'Usos bicis total acumulado mes':'uso_ab_total_mes'}, inplace=True)"
   ]
  },
  {
   "cell_type": "markdown",
   "metadata": {},
   "source": [
    "Una vez unificadas la fuentes vamos a evaluar el tipo de dato y si tienen nulos o no."
   ]
  },
  {
   "cell_type": "code",
   "execution_count": 40,
   "metadata": {},
   "outputs": [
    {
     "data": {
      "text/plain": [
       "anio                False\n",
       "mes                 False\n",
       "fecha               False\n",
       "uso_ab_anual_dia    False\n",
       "uso_ab_ocas_dia     False\n",
       "uso_ab_total_dia    False\n",
       "uso_ab_anual_mes    False\n",
       "uso_ab_ocas_mes     False\n",
       "uso_ab_total_mes    False\n",
       "dtype: bool"
      ]
     },
     "execution_count": 40,
     "metadata": {},
     "output_type": "execute_result"
    }
   ],
   "source": [
    "# No tienen nulos\n",
    "\n",
    "uso_bicicletas_2022.isnull().any()"
   ]
  },
  {
   "cell_type": "code",
   "execution_count": 41,
   "metadata": {},
   "outputs": [],
   "source": [
    "''' \n",
    "Para nuestra analítica creamos columnas de fechas para poder trabajabar sobre todo la estacionalidad.\n",
    "- Día de la semana: El número de día sabiendo que 0 es domingo y 6 es sabado.\n",
    "- Fin de Semana: Variable binaria que indica si el día es sabado o domingo.\n",
    "\n",
    "'''\n",
    "\n",
    "uso_bicicletas_2022['dia_semana'] = [int(str(datetime.strftime(i, '%w'))) for i in uso_bicicletas_2022['fecha']]\n",
    "uso_bicicletas_2022['fin_semana'] = [1 if i in [0, 6] else 0 for i in uso_bicicletas_2022['dia_semana']]"
   ]
  },
  {
   "cell_type": "code",
   "execution_count": 42,
   "metadata": {},
   "outputs": [],
   "source": [
    "# Reordenamos la columnas\n",
    "\n",
    "uso_bicicletas_2022 = uso_bicicletas_2022.loc[:, ['anio', \n",
    "                                                  'mes', \n",
    "                                                  'fecha', \n",
    "                                                  'dia_semana',\n",
    "                                                  'fin_semana',\n",
    "                                                  'uso_ab_anual_dia', \n",
    "                                                  'uso_ab_ocas_dia',\n",
    "                                                  'uso_ab_total_dia', \n",
    "                                                  'uso_ab_anual_mes', \n",
    "                                                  'uso_ab_ocas_mes',\n",
    "                                                  'uso_ab_total_mes']]"
   ]
  },
  {
   "cell_type": "code",
   "execution_count": 43,
   "metadata": {},
   "outputs": [],
   "source": [
    "# Convertimos en enteros las variables desde la columna 5 al final.\n",
    "\n",
    "for i in uso_bicicletas_2022.iloc[:, 5:]:\n",
    "    uso_bicicletas_2022[i] = [int(x) for x in uso_bicicletas_2022[i]]"
   ]
  },
  {
   "cell_type": "code",
   "execution_count": 44,
   "metadata": {},
   "outputs": [
    {
     "data": {
      "text/plain": [
       "anio                         int64\n",
       "mes                          int64\n",
       "fecha               datetime64[ns]\n",
       "dia_semana                   int64\n",
       "fin_semana                   int64\n",
       "uso_ab_anual_dia             int64\n",
       "uso_ab_ocas_dia              int64\n",
       "uso_ab_total_dia             int64\n",
       "uso_ab_anual_mes             int64\n",
       "uso_ab_ocas_mes              int64\n",
       "uso_ab_total_mes             int64\n",
       "dtype: object"
      ]
     },
     "execution_count": 44,
     "metadata": {},
     "output_type": "execute_result"
    }
   ],
   "source": [
    "# Cambios en tipo de variable\n",
    "\n",
    "uso_bicicletas_2022.dtypes"
   ]
  },
  {
   "cell_type": "code",
   "execution_count": 45,
   "metadata": {},
   "outputs": [
    {
     "data": {
      "text/html": [
       "<div>\n",
       "<style scoped>\n",
       "    .dataframe tbody tr th:only-of-type {\n",
       "        vertical-align: middle;\n",
       "    }\n",
       "\n",
       "    .dataframe tbody tr th {\n",
       "        vertical-align: top;\n",
       "    }\n",
       "\n",
       "    .dataframe thead th {\n",
       "        text-align: right;\n",
       "    }\n",
       "</style>\n",
       "<table border=\"1\" class=\"dataframe\">\n",
       "  <thead>\n",
       "    <tr style=\"text-align: right;\">\n",
       "      <th></th>\n",
       "      <th>anio</th>\n",
       "      <th>mes</th>\n",
       "      <th>fecha</th>\n",
       "      <th>dia_semana</th>\n",
       "      <th>fin_semana</th>\n",
       "      <th>uso_ab_anual_dia</th>\n",
       "      <th>uso_ab_ocas_dia</th>\n",
       "      <th>uso_ab_total_dia</th>\n",
       "      <th>uso_ab_anual_mes</th>\n",
       "      <th>uso_ab_ocas_mes</th>\n",
       "      <th>uso_ab_total_mes</th>\n",
       "    </tr>\n",
       "  </thead>\n",
       "  <tbody>\n",
       "    <tr>\n",
       "      <th>0</th>\n",
       "      <td>2022</td>\n",
       "      <td>1</td>\n",
       "      <td>2022-01-01</td>\n",
       "      <td>6</td>\n",
       "      <td>1</td>\n",
       "      <td>3061</td>\n",
       "      <td>69</td>\n",
       "      <td>3130</td>\n",
       "      <td>3061</td>\n",
       "      <td>69</td>\n",
       "      <td>3130</td>\n",
       "    </tr>\n",
       "    <tr>\n",
       "      <th>1</th>\n",
       "      <td>2022</td>\n",
       "      <td>1</td>\n",
       "      <td>2022-01-02</td>\n",
       "      <td>0</td>\n",
       "      <td>1</td>\n",
       "      <td>3824</td>\n",
       "      <td>42</td>\n",
       "      <td>3866</td>\n",
       "      <td>6885</td>\n",
       "      <td>111</td>\n",
       "      <td>6996</td>\n",
       "    </tr>\n",
       "    <tr>\n",
       "      <th>2</th>\n",
       "      <td>2022</td>\n",
       "      <td>1</td>\n",
       "      <td>2022-01-03</td>\n",
       "      <td>1</td>\n",
       "      <td>0</td>\n",
       "      <td>5600</td>\n",
       "      <td>20</td>\n",
       "      <td>5620</td>\n",
       "      <td>12485</td>\n",
       "      <td>131</td>\n",
       "      <td>12616</td>\n",
       "    </tr>\n",
       "    <tr>\n",
       "      <th>3</th>\n",
       "      <td>2022</td>\n",
       "      <td>1</td>\n",
       "      <td>2022-01-04</td>\n",
       "      <td>2</td>\n",
       "      <td>0</td>\n",
       "      <td>5054</td>\n",
       "      <td>14</td>\n",
       "      <td>5068</td>\n",
       "      <td>17539</td>\n",
       "      <td>145</td>\n",
       "      <td>17684</td>\n",
       "    </tr>\n",
       "    <tr>\n",
       "      <th>4</th>\n",
       "      <td>2022</td>\n",
       "      <td>1</td>\n",
       "      <td>2022-01-05</td>\n",
       "      <td>3</td>\n",
       "      <td>0</td>\n",
       "      <td>3231</td>\n",
       "      <td>10</td>\n",
       "      <td>3241</td>\n",
       "      <td>20770</td>\n",
       "      <td>155</td>\n",
       "      <td>20925</td>\n",
       "    </tr>\n",
       "  </tbody>\n",
       "</table>\n",
       "</div>"
      ],
      "text/plain": [
       "   anio  mes      fecha  dia_semana  fin_semana  uso_ab_anual_dia  \\\n",
       "0  2022    1 2022-01-01           6           1              3061   \n",
       "1  2022    1 2022-01-02           0           1              3824   \n",
       "2  2022    1 2022-01-03           1           0              5600   \n",
       "3  2022    1 2022-01-04           2           0              5054   \n",
       "4  2022    1 2022-01-05           3           0              3231   \n",
       "\n",
       "   uso_ab_ocas_dia  uso_ab_total_dia  uso_ab_anual_mes  uso_ab_ocas_mes  \\\n",
       "0               69              3130              3061               69   \n",
       "1               42              3866              6885              111   \n",
       "2               20              5620             12485              131   \n",
       "3               14              5068             17539              145   \n",
       "4               10              3241             20770              155   \n",
       "\n",
       "   uso_ab_total_mes  \n",
       "0              3130  \n",
       "1              6996  \n",
       "2             12616  \n",
       "3             17684  \n",
       "4             20925  "
      ]
     },
     "execution_count": 45,
     "metadata": {},
     "output_type": "execute_result"
    }
   ],
   "source": [
    "uso_bicicletas_2022.head()"
   ]
  },
  {
   "cell_type": "code",
   "execution_count": 46,
   "metadata": {},
   "outputs": [],
   "source": [
    "# Base de datos tratado de uso abonos en el 2022.\n",
    "\n",
    "uso_bicicletas_2022.to_csv('../data/Datos Tratados/uso_bici_resumen_2022.csv', index=False)"
   ]
  },
  {
   "cell_type": "markdown",
   "metadata": {},
   "source": [
    "# URL 2: BiciMAD. Datos de la situación de estaciones bicimad por día y hora"
   ]
  },
  {
   "cell_type": "code",
   "execution_count": 47,
   "metadata": {},
   "outputs": [],
   "source": [
    "# Funcion para leer varios ficheros de json de un directorio y convierte en dataframe.\n",
    "\n",
    "sit_estaciones = u.call_situacion_estaciones()"
   ]
  },
  {
   "cell_type": "code",
   "execution_count": 48,
   "metadata": {},
   "outputs": [],
   "source": [
    "# Nos quedamos con las columnas que nos interesa y las renombramos.\n",
    "\n",
    "sit_estaciones = sit_estaciones.loc[:,['_id', 'id', 'number', 'name', 'activate', 'light', 'total_bases', 'free_bases', 'dock_bikes', 'reservations_count']]\n",
    "\n",
    "sit_estaciones.rename(columns={'_id':'fecha_hora',\n",
    "                               'id':'id_estacion',\n",
    "                               'number':'cod_estacion',\n",
    "                               'name':'des_estacion'}, inplace=True)"
   ]
  },
  {
   "cell_type": "markdown",
   "metadata": {},
   "source": [
    "Creamos columnas de fechas para nuestro análisis."
   ]
  },
  {
   "cell_type": "code",
   "execution_count": 49,
   "metadata": {},
   "outputs": [],
   "source": [
    "''' \n",
    "Para nuestra analítica creamos columnas de fechas para poder trabajabar sobre todo la estacionalidad.\n",
    "- fecha hora: Parseamos la columna para que nos identique como columna de fecha.\n",
    "- fecha: Columnas solo de fecha.\n",
    "- Mes: Columna de mes.\n",
    "- Hora minuto: Columna de horas y minutos.\n",
    "- Hora: Columna de hora formato 24 pero en int.\n",
    "- Día de la semana: El número de día sabiendo que 0 es domingo y 6 es sabado.\n",
    "- Fin de Semana: Variable binaria que indica si el día es sabado o domingo.\n",
    "\n",
    "'''\n",
    "\n",
    "sit_estaciones['fecha_hora'] = [datetime.strptime(i, '%Y-%m-%dT%H:%M:%S.%f') for i in sit_estaciones['fecha_hora']]\n",
    "sit_estaciones['fecha'] = [datetime.strptime(datetime.strftime(i, '%Y-%m-%d'), '%Y-%m-%d')   for i in sit_estaciones['fecha_hora']]\n",
    "sit_estaciones['mes'] = [int(str(datetime.strftime(i, '%m')))  for i in sit_estaciones['fecha_hora']]\n",
    "sit_estaciones['hora_minuto'] = [datetime.strftime(i, '%H:%M') for i in sit_estaciones['fecha_hora']]\n",
    "sit_estaciones['hora'] = [datetime.strftime(i, '%H') for i in sit_estaciones['fecha_hora']]\n",
    "sit_estaciones['dia_semana'] = [int(str(datetime.strftime(i, '%w'))) for i in sit_estaciones['fecha_hora']]\n",
    "sit_estaciones['fin_semana'] = [1 if i in [0, 6] else 0 for i in sit_estaciones['dia_semana']]\n",
    "\n",
    "sit_estaciones = sit_estaciones.loc[:, ['fecha_hora', \n",
    "                                        'fecha',\n",
    "                                        'mes',\n",
    "                                        'hora_minuto',\n",
    "                                        'hora',\n",
    "                                        'dia_semana',\n",
    "                                        'fin_semana',\n",
    "                                        'id_estacion', \n",
    "                                        'cod_estacion', \n",
    "                                        'des_estacion', \n",
    "                                        'activate',\n",
    "                                        'light',\n",
    "                                        'total_bases',\n",
    "                                        'free_bases',\n",
    "                                        'dock_bikes',\n",
    "                                        'reservations_count']]"
   ]
  },
  {
   "cell_type": "code",
   "execution_count": 50,
   "metadata": {},
   "outputs": [],
   "source": [
    "#Nos quitamos los puntos de inactividad de las estaciones\n",
    "\n",
    "sit_estaciones = sit_estaciones[(sit_estaciones['light']!=3) | (sit_estaciones['activate']!=0)] "
   ]
  },
  {
   "cell_type": "code",
   "execution_count": 51,
   "metadata": {},
   "outputs": [],
   "source": [
    "# Formatemos la columna del código de estación para que esté igual que el maestro de estaciones.\n",
    "\n",
    "sit_estaciones['cod_estacion'] = [x.lstrip('0').replace(' ', '') for x in sit_estaciones['cod_estacion']]"
   ]
  },
  {
   "cell_type": "code",
   "execution_count": 52,
   "metadata": {},
   "outputs": [
    {
     "data": {
      "text/html": [
       "<div>\n",
       "<style scoped>\n",
       "    .dataframe tbody tr th:only-of-type {\n",
       "        vertical-align: middle;\n",
       "    }\n",
       "\n",
       "    .dataframe tbody tr th {\n",
       "        vertical-align: top;\n",
       "    }\n",
       "\n",
       "    .dataframe thead th {\n",
       "        text-align: right;\n",
       "    }\n",
       "</style>\n",
       "<table border=\"1\" class=\"dataframe\">\n",
       "  <thead>\n",
       "    <tr style=\"text-align: right;\">\n",
       "      <th></th>\n",
       "      <th>fecha_hora</th>\n",
       "      <th>fecha</th>\n",
       "      <th>mes</th>\n",
       "      <th>hora_minuto</th>\n",
       "      <th>hora</th>\n",
       "      <th>dia_semana</th>\n",
       "      <th>fin_semana</th>\n",
       "      <th>id_estacion</th>\n",
       "      <th>cod_estacion</th>\n",
       "      <th>des_estacion</th>\n",
       "      <th>activate</th>\n",
       "      <th>light</th>\n",
       "      <th>total_bases</th>\n",
       "      <th>free_bases</th>\n",
       "      <th>dock_bikes</th>\n",
       "      <th>reservations_count</th>\n",
       "    </tr>\n",
       "  </thead>\n",
       "  <tbody>\n",
       "    <tr>\n",
       "      <th>0</th>\n",
       "      <td>2022-01-01 00:13:20.603583</td>\n",
       "      <td>2022-01-01</td>\n",
       "      <td>1</td>\n",
       "      <td>00:13</td>\n",
       "      <td>00</td>\n",
       "      <td>6</td>\n",
       "      <td>1</td>\n",
       "      <td>1</td>\n",
       "      <td>1a</td>\n",
       "      <td>Puerta del Sol A</td>\n",
       "      <td>1</td>\n",
       "      <td>3</td>\n",
       "      <td>30</td>\n",
       "      <td>0</td>\n",
       "      <td>0</td>\n",
       "      <td>0</td>\n",
       "    </tr>\n",
       "    <tr>\n",
       "      <th>1</th>\n",
       "      <td>2022-01-01 00:13:20.603583</td>\n",
       "      <td>2022-01-01</td>\n",
       "      <td>1</td>\n",
       "      <td>00:13</td>\n",
       "      <td>00</td>\n",
       "      <td>6</td>\n",
       "      <td>1</td>\n",
       "      <td>2</td>\n",
       "      <td>1b</td>\n",
       "      <td>Puerta del Sol B</td>\n",
       "      <td>1</td>\n",
       "      <td>3</td>\n",
       "      <td>30</td>\n",
       "      <td>0</td>\n",
       "      <td>0</td>\n",
       "      <td>0</td>\n",
       "    </tr>\n",
       "    <tr>\n",
       "      <th>2</th>\n",
       "      <td>2022-01-01 00:13:20.603583</td>\n",
       "      <td>2022-01-01</td>\n",
       "      <td>1</td>\n",
       "      <td>00:13</td>\n",
       "      <td>00</td>\n",
       "      <td>6</td>\n",
       "      <td>1</td>\n",
       "      <td>3</td>\n",
       "      <td>2</td>\n",
       "      <td>Miguel Moya</td>\n",
       "      <td>1</td>\n",
       "      <td>0</td>\n",
       "      <td>24</td>\n",
       "      <td>16</td>\n",
       "      <td>7</td>\n",
       "      <td>0</td>\n",
       "    </tr>\n",
       "    <tr>\n",
       "      <th>3</th>\n",
       "      <td>2022-01-01 00:13:20.603583</td>\n",
       "      <td>2022-01-01</td>\n",
       "      <td>1</td>\n",
       "      <td>00:13</td>\n",
       "      <td>00</td>\n",
       "      <td>6</td>\n",
       "      <td>1</td>\n",
       "      <td>4</td>\n",
       "      <td>3</td>\n",
       "      <td>Plaza Conde Suchil</td>\n",
       "      <td>1</td>\n",
       "      <td>1</td>\n",
       "      <td>18</td>\n",
       "      <td>1</td>\n",
       "      <td>14</td>\n",
       "      <td>0</td>\n",
       "    </tr>\n",
       "    <tr>\n",
       "      <th>4</th>\n",
       "      <td>2022-01-01 00:13:20.603583</td>\n",
       "      <td>2022-01-01</td>\n",
       "      <td>1</td>\n",
       "      <td>00:13</td>\n",
       "      <td>00</td>\n",
       "      <td>6</td>\n",
       "      <td>1</td>\n",
       "      <td>5</td>\n",
       "      <td>4</td>\n",
       "      <td>Malasaña</td>\n",
       "      <td>1</td>\n",
       "      <td>1</td>\n",
       "      <td>24</td>\n",
       "      <td>2</td>\n",
       "      <td>17</td>\n",
       "      <td>0</td>\n",
       "    </tr>\n",
       "  </tbody>\n",
       "</table>\n",
       "</div>"
      ],
      "text/plain": [
       "                  fecha_hora      fecha  mes hora_minuto hora  dia_semana  \\\n",
       "0 2022-01-01 00:13:20.603583 2022-01-01    1       00:13   00           6   \n",
       "1 2022-01-01 00:13:20.603583 2022-01-01    1       00:13   00           6   \n",
       "2 2022-01-01 00:13:20.603583 2022-01-01    1       00:13   00           6   \n",
       "3 2022-01-01 00:13:20.603583 2022-01-01    1       00:13   00           6   \n",
       "4 2022-01-01 00:13:20.603583 2022-01-01    1       00:13   00           6   \n",
       "\n",
       "   fin_semana  id_estacion cod_estacion        des_estacion  activate  light  \\\n",
       "0           1            1           1a    Puerta del Sol A         1      3   \n",
       "1           1            2           1b    Puerta del Sol B         1      3   \n",
       "2           1            3            2         Miguel Moya         1      0   \n",
       "3           1            4            3  Plaza Conde Suchil         1      1   \n",
       "4           1            5            4            Malasaña         1      1   \n",
       "\n",
       "   total_bases  free_bases  dock_bikes  reservations_count  \n",
       "0           30           0           0                   0  \n",
       "1           30           0           0                   0  \n",
       "2           24          16           7                   0  \n",
       "3           18           1          14                   0  \n",
       "4           24           2          17                   0  "
      ]
     },
     "execution_count": 52,
     "metadata": {},
     "output_type": "execute_result"
    }
   ],
   "source": [
    "sit_estaciones.head()"
   ]
  },
  {
   "cell_type": "code",
   "execution_count": 53,
   "metadata": {},
   "outputs": [],
   "source": [
    "# Base de datos tratado de Situaciones de las estaciones en el 2022.\n",
    "\n",
    "sit_estaciones.to_csv('../data/Datos Tratados/sit_estaciones_2022.csv', index=False)"
   ]
  },
  {
   "cell_type": "markdown",
   "metadata": {},
   "source": [
    "# URL 3: BiciMAD. Datos de los itinerarios de las bicicletas eléctricas"
   ]
  },
  {
   "cell_type": "code",
   "execution_count": 54,
   "metadata": {},
   "outputs": [],
   "source": [
    "# Funcion para leer varios ficheros de csv de un directorio y convierte en dataframe.\n",
    "\n",
    "intinerarios_bicicletas_2022 = u.call_uso_bicicletas()"
   ]
  },
  {
   "cell_type": "code",
   "execution_count": 55,
   "metadata": {},
   "outputs": [],
   "source": [
    "''' \n",
    "Limpieza de las columnas de latitud y logitud ya que tenia datos con este formato \"{'type': 'Point', 'coordinates': [-3.6714166, 40.4318611]}\"\n",
    "'''\n",
    "\n",
    "localizaciones = ['geolocation_unlock', 'geolocation_lock']\n",
    "\n",
    "for campo in localizaciones:\n",
    "    subindice = campo.split('_')[1]\n",
    "    lon_list = []\n",
    "    lat_list = []\n",
    "    for i in intinerarios_bicicletas_2022.loc[:, campo]:\n",
    "        valor1 = i.split(\"'coordinates': [\")[1]\n",
    "        valor2 = valor1.replace(']}', '')\n",
    "        lon, lat = valor2.split(',')\n",
    "        lon_list.append(lon)\n",
    "        lat_list.append(lat)\n",
    "    campolon = 'lon'+'_'+ subindice\n",
    "    campolat = 'lat'+'_'+ subindice\n",
    "    intinerarios_bicicletas_2022[campolon] = lon_list\n",
    "    intinerarios_bicicletas_2022[campolat] = lat_list"
   ]
  },
  {
   "cell_type": "markdown",
   "metadata": {},
   "source": [
    "Reordenamos las columnas y nos quedamos con las importantes."
   ]
  },
  {
   "cell_type": "code",
   "execution_count": 56,
   "metadata": {},
   "outputs": [],
   "source": [
    "intinerarios_bicicletas_2022.drop(columns=['geolocation_unlock', \n",
    "                                           'geolocation_lock', \n",
    "                                           'fleet', \n",
    "                                           'address_unlock', \n",
    "                                           'locktype', \n",
    "                                           'unlocktype', \n",
    "                                           'idBike',\n",
    "                                           'idTrip'], axis=1)\n",
    "\n",
    "intinerarios_bicicletas_2022 = intinerarios_bicicletas_2022.loc[:, ['fecha', \n",
    "                                                                    'trip_minutes',\n",
    "                                                                    'unlock_date',\n",
    "                                                                    'lon_unlock',\n",
    "                                                                    'lat_unlock',\n",
    "                                                                    'station_unlock',\n",
    "                                                                    'dock_unlock',\n",
    "                                                                    'unlock_station_name',\n",
    "                                                                    'lock_date',\n",
    "                                                                    'lon_lock',\n",
    "                                                                    'lat_lock',\n",
    "                                                                    'station_lock',\n",
    "                                                                    'dock_lock',\n",
    "                                                                    'lock_station_name']]"
   ]
  },
  {
   "cell_type": "code",
   "execution_count": 57,
   "metadata": {},
   "outputs": [],
   "source": [
    "# Nos quitamos los intinerarios cuyos valores de lat y lon estan vacios y codigos de estaciones vacios.\n",
    "\n",
    "intinerarios_bicicletas_2022.drop(axis=0, index=intinerarios_bicicletas_2022[intinerarios_bicicletas_2022['lon_lock']==\"'NaN'\"].index, inplace=True)\n",
    "intinerarios_bicicletas_2022.drop(axis=0, index=intinerarios_bicicletas_2022[intinerarios_bicicletas_2022['station_lock'].isnull()].index, inplace=True)"
   ]
  },
  {
   "cell_type": "markdown",
   "metadata": {},
   "source": [
    "Creamos fechas para nuestro análisis."
   ]
  },
  {
   "cell_type": "code",
   "execution_count": 58,
   "metadata": {},
   "outputs": [],
   "source": [
    "''' \n",
    "Para nuestra analítica formateamos la columnas de fechas, latitud y logitud.\n",
    "\n",
    "'''\n",
    "\n",
    "intinerarios_bicicletas_2022['fecha'] = [datetime.strptime(i, '%Y-%m-%d')   for i in intinerarios_bicicletas_2022['fecha']]\n",
    "intinerarios_bicicletas_2022['unlock_date'] = [datetime.strptime(i, '%Y-%m-%dT%H:%M:%S')   for i in intinerarios_bicicletas_2022['unlock_date']]\n",
    "intinerarios_bicicletas_2022['lock_date'] = [datetime.strptime(i, '%Y-%m-%dT%H:%M:%S')   for i in intinerarios_bicicletas_2022['lock_date']]\n",
    "intinerarios_bicicletas_2022['lon_unlock'] = [float(i) for i in intinerarios_bicicletas_2022['lon_unlock']]\n",
    "intinerarios_bicicletas_2022['lat_unlock'] = [float(i) for i in intinerarios_bicicletas_2022['lat_unlock']]\n",
    "intinerarios_bicicletas_2022['lon_lock'] = [float(i) for i in intinerarios_bicicletas_2022['lon_lock']]\n",
    "intinerarios_bicicletas_2022['lat_lock'] = [float(i) for i in intinerarios_bicicletas_2022['lat_lock']]\n",
    "intinerarios_bicicletas_2022['station_lock'] = [str(int(i)) for i in intinerarios_bicicletas_2022['station_lock']]"
   ]
  },
  {
   "cell_type": "code",
   "execution_count": 59,
   "metadata": {},
   "outputs": [
    {
     "data": {
      "text/html": [
       "<div>\n",
       "<style scoped>\n",
       "    .dataframe tbody tr th:only-of-type {\n",
       "        vertical-align: middle;\n",
       "    }\n",
       "\n",
       "    .dataframe tbody tr th {\n",
       "        vertical-align: top;\n",
       "    }\n",
       "\n",
       "    .dataframe thead th {\n",
       "        text-align: right;\n",
       "    }\n",
       "</style>\n",
       "<table border=\"1\" class=\"dataframe\">\n",
       "  <thead>\n",
       "    <tr style=\"text-align: right;\">\n",
       "      <th></th>\n",
       "      <th>fecha</th>\n",
       "      <th>trip_minutes</th>\n",
       "      <th>unlock_date</th>\n",
       "      <th>lon_unlock</th>\n",
       "      <th>lat_unlock</th>\n",
       "      <th>station_unlock</th>\n",
       "      <th>dock_unlock</th>\n",
       "      <th>unlock_station_name</th>\n",
       "      <th>lock_date</th>\n",
       "      <th>lon_lock</th>\n",
       "      <th>lat_lock</th>\n",
       "      <th>station_lock</th>\n",
       "      <th>dock_lock</th>\n",
       "      <th>lock_station_name</th>\n",
       "    </tr>\n",
       "  </thead>\n",
       "  <tbody>\n",
       "    <tr>\n",
       "      <th>0</th>\n",
       "      <td>2022-01-01</td>\n",
       "      <td>16.28</td>\n",
       "      <td>2022-01-01 00:02:20</td>\n",
       "      <td>-3.671417</td>\n",
       "      <td>40.431861</td>\n",
       "      <td>200</td>\n",
       "      <td>3.0</td>\n",
       "      <td>Avenida de los Toreros</td>\n",
       "      <td>2022-01-01 00:18:37</td>\n",
       "      <td>-3.688398</td>\n",
       "      <td>40.419752</td>\n",
       "      <td>64</td>\n",
       "      <td>4.0</td>\n",
       "      <td>Plaza de la Independencia</td>\n",
       "    </tr>\n",
       "    <tr>\n",
       "      <th>1</th>\n",
       "      <td>2022-01-01</td>\n",
       "      <td>7.10</td>\n",
       "      <td>2022-01-01 00:07:53</td>\n",
       "      <td>-3.689419</td>\n",
       "      <td>40.416683</td>\n",
       "      <td>69</td>\n",
       "      <td>5.0</td>\n",
       "      <td>Antonio Maura</td>\n",
       "      <td>2022-01-01 00:14:59</td>\n",
       "      <td>-3.699346</td>\n",
       "      <td>40.430952</td>\n",
       "      <td>169</td>\n",
       "      <td>17.0</td>\n",
       "      <td>Manuel Silvela</td>\n",
       "    </tr>\n",
       "    <tr>\n",
       "      <th>2</th>\n",
       "      <td>2022-01-01</td>\n",
       "      <td>0.48</td>\n",
       "      <td>2022-01-01 00:09:21</td>\n",
       "      <td>-3.688822</td>\n",
       "      <td>40.409808</td>\n",
       "      <td>73</td>\n",
       "      <td>21.0</td>\n",
       "      <td>Puerta del Ángel Caído</td>\n",
       "      <td>2022-01-01 00:09:50</td>\n",
       "      <td>-3.688822</td>\n",
       "      <td>40.409808</td>\n",
       "      <td>73</td>\n",
       "      <td>21.0</td>\n",
       "      <td>Puerta del Ángel Caído</td>\n",
       "    </tr>\n",
       "    <tr>\n",
       "      <th>3</th>\n",
       "      <td>2022-01-01</td>\n",
       "      <td>6.62</td>\n",
       "      <td>2022-01-01 00:09:52</td>\n",
       "      <td>-3.665306</td>\n",
       "      <td>40.426000</td>\n",
       "      <td>192</td>\n",
       "      <td>22.0</td>\n",
       "      <td>Marqués de Zafra</td>\n",
       "      <td>2022-01-01 00:16:29</td>\n",
       "      <td>-3.665778</td>\n",
       "      <td>40.418667</td>\n",
       "      <td>190</td>\n",
       "      <td>17.0</td>\n",
       "      <td>Parque Roma</td>\n",
       "    </tr>\n",
       "    <tr>\n",
       "      <th>4</th>\n",
       "      <td>2022-01-01</td>\n",
       "      <td>8.07</td>\n",
       "      <td>2022-01-01 00:09:57</td>\n",
       "      <td>-3.698306</td>\n",
       "      <td>40.396222</td>\n",
       "      <td>183</td>\n",
       "      <td>3.0</td>\n",
       "      <td>Jaime el Conquistador</td>\n",
       "      <td>2022-01-01 00:18:01</td>\n",
       "      <td>-3.702502</td>\n",
       "      <td>40.410156</td>\n",
       "      <td>47</td>\n",
       "      <td>24.0</td>\n",
       "      <td>Jesús y María</td>\n",
       "    </tr>\n",
       "  </tbody>\n",
       "</table>\n",
       "</div>"
      ],
      "text/plain": [
       "       fecha  trip_minutes         unlock_date  lon_unlock  lat_unlock  \\\n",
       "0 2022-01-01         16.28 2022-01-01 00:02:20   -3.671417   40.431861   \n",
       "1 2022-01-01          7.10 2022-01-01 00:07:53   -3.689419   40.416683   \n",
       "2 2022-01-01          0.48 2022-01-01 00:09:21   -3.688822   40.409808   \n",
       "3 2022-01-01          6.62 2022-01-01 00:09:52   -3.665306   40.426000   \n",
       "4 2022-01-01          8.07 2022-01-01 00:09:57   -3.698306   40.396222   \n",
       "\n",
       "  station_unlock  dock_unlock     unlock_station_name           lock_date  \\\n",
       "0            200          3.0  Avenida de los Toreros 2022-01-01 00:18:37   \n",
       "1             69          5.0           Antonio Maura 2022-01-01 00:14:59   \n",
       "2             73         21.0  Puerta del Ángel Caído 2022-01-01 00:09:50   \n",
       "3            192         22.0        Marqués de Zafra 2022-01-01 00:16:29   \n",
       "4            183          3.0   Jaime el Conquistador 2022-01-01 00:18:01   \n",
       "\n",
       "   lon_lock   lat_lock station_lock  dock_lock          lock_station_name  \n",
       "0 -3.688398  40.419752           64        4.0  Plaza de la Independencia  \n",
       "1 -3.699346  40.430952          169       17.0             Manuel Silvela  \n",
       "2 -3.688822  40.409808           73       21.0     Puerta del Ángel Caído  \n",
       "3 -3.665778  40.418667          190       17.0                Parque Roma  \n",
       "4 -3.702502  40.410156           47       24.0              Jesús y María  "
      ]
     },
     "execution_count": 59,
     "metadata": {},
     "output_type": "execute_result"
    }
   ],
   "source": [
    "intinerarios_bicicletas_2022.head()"
   ]
  },
  {
   "cell_type": "code",
   "execution_count": 60,
   "metadata": {},
   "outputs": [],
   "source": [
    "# Base de datos tratado de intinerarios de la bicicletas en el 2022.\n",
    "\n",
    "intinerarios_bicicletas_2022.to_csv('../data/Datos Tratados/intinerarios_bicicletas_2022.csv', index=False)"
   ]
  },
  {
   "cell_type": "markdown",
   "metadata": {},
   "source": [
    "## URL 4: BiciMAD. Bases del servicio público de bicicleta eléctrica de la ciudad de Madrid"
   ]
  },
  {
   "cell_type": "code",
   "execution_count": 61,
   "metadata": {},
   "outputs": [],
   "source": [
    "# Lectura de csv bases de las bicicletas de bicimad ultima actualizacion del 2020\n",
    "\n",
    "mapa_bases = pd.read_csv('../data/Datos Originales/bases_bicimad.csv', sep=';')"
   ]
  },
  {
   "cell_type": "code",
   "execution_count": 62,
   "metadata": {},
   "outputs": [],
   "source": [
    "# Limpieza de columnas y orden\n",
    "\n",
    "mapa_bases['Fecha de Alta'] = [u.convertir_fecha(x) for x in mapa_bases['Fecha de Alta']]\n",
    "mapa_bases.drop(['Gis_X', 'Gis_Y', 'Tipo de Reserva', 'Direccion'], axis=1, inplace=True)\n",
    "mapa_bases.sort_values(by='Fecha de Alta', inplace=True, ignore_index=True)\n",
    "\n",
    "# Columna de cod estacion viene con un formato diferente a las otras fuentes por lo que la formateamos para que quede igual\n",
    "\n",
    "mapa_bases['Número'] = [x.lstrip('0').replace(' ', '') for x in mapa_bases['Número']]"
   ]
  },
  {
   "cell_type": "code",
   "execution_count": 63,
   "metadata": {},
   "outputs": [],
   "source": [
    "# Existe registros duplicados de las estaciones ya que han tenido ampliaciones, por lo que nos quedamos con el registro ultimo que han tenido\n",
    "\n",
    "for i in mapa_bases[mapa_bases['Número'].str.contains('ampliacion')].loc[:, 'Número'].values:\n",
    "    valor = i.split('ampliacion')\n",
    "    mapa_bases.drop(axis=0, index=mapa_bases[mapa_bases['Número'] == valor[0]].index, inplace=True)\n",
    "\n",
    "mapa_bases.reset_index(inplace=True, drop=True)\n",
    "\n",
    "mapa_bases['Número'] = [x.replace('ampliacion', '') for x in mapa_bases['Número']]\n",
    "mapa_bases['Número'] = [x.replace('ampliación', '') for x in mapa_bases['Número']]"
   ]
  },
  {
   "cell_type": "code",
   "execution_count": 64,
   "metadata": {},
   "outputs": [],
   "source": [
    "# Renombrar las variables\n",
    "\n",
    "mapa_bases.rename(columns={'Número':'cod_estacion',\n",
    "                           'Fecha de Alta':'fecha_alta',\n",
    "                           'Distrito':'distrito',\n",
    "                           'Barrio':'barrio',\n",
    "                           'Calle':'calle',\n",
    "                           'Nº Finca':'numero',\n",
    "                           'Número de Plazas':'plazas',\n",
    "                           'Longitud':'longitud',\n",
    "                           'Latitud':'latitud'}, inplace=True)"
   ]
  },
  {
   "cell_type": "markdown",
   "metadata": {},
   "source": [
    "Detectamos una base duplicada que es la 140, al parecer era una ampliación pero no tenia registrado como apliación por lo que nos quitamos el registro anterior."
   ]
  },
  {
   "cell_type": "code",
   "execution_count": 65,
   "metadata": {},
   "outputs": [],
   "source": [
    "# Eliminamos registro duplicado\n",
    "\n",
    "mapa_bases.drop(axis=0, index=mapa_bases[(mapa_bases['cod_estacion']=='140')&(mapa_bases['plazas']==3)].index, inplace=True)"
   ]
  },
  {
   "cell_type": "code",
   "execution_count": 66,
   "metadata": {},
   "outputs": [
    {
     "data": {
      "text/html": [
       "<div>\n",
       "<style scoped>\n",
       "    .dataframe tbody tr th:only-of-type {\n",
       "        vertical-align: middle;\n",
       "    }\n",
       "\n",
       "    .dataframe tbody tr th {\n",
       "        vertical-align: top;\n",
       "    }\n",
       "\n",
       "    .dataframe thead th {\n",
       "        text-align: right;\n",
       "    }\n",
       "</style>\n",
       "<table border=\"1\" class=\"dataframe\">\n",
       "  <thead>\n",
       "    <tr style=\"text-align: right;\">\n",
       "      <th></th>\n",
       "      <th>cod_estacion</th>\n",
       "      <th>fecha_alta</th>\n",
       "      <th>distrito</th>\n",
       "      <th>barrio</th>\n",
       "      <th>calle</th>\n",
       "      <th>numero</th>\n",
       "      <th>plazas</th>\n",
       "      <th>longitud</th>\n",
       "      <th>latitud</th>\n",
       "    </tr>\n",
       "  </thead>\n",
       "  <tbody>\n",
       "    <tr>\n",
       "      <th>0</th>\n",
       "      <td>106a</td>\n",
       "      <td>2014-05-23</td>\n",
       "      <td>04  SALAMANCA</td>\n",
       "      <td>04-01 RECOLETOS</td>\n",
       "      <td>SERRANO, CALLE, DE</td>\n",
       "      <td>32</td>\n",
       "      <td>18</td>\n",
       "      <td>-3.687887</td>\n",
       "      <td>40.424864</td>\n",
       "    </tr>\n",
       "  </tbody>\n",
       "</table>\n",
       "</div>"
      ],
      "text/plain": [
       "  cod_estacion fecha_alta       distrito           barrio               calle  \\\n",
       "0         106a 2014-05-23  04  SALAMANCA  04-01 RECOLETOS  SERRANO, CALLE, DE   \n",
       "\n",
       "  numero  plazas  longitud    latitud  \n",
       "0     32      18 -3.687887  40.424864  "
      ]
     },
     "execution_count": 66,
     "metadata": {},
     "output_type": "execute_result"
    }
   ],
   "source": [
    "mapa_bases.head(1)"
   ]
  },
  {
   "cell_type": "code",
   "execution_count": 67,
   "metadata": {},
   "outputs": [],
   "source": [
    "# Base de datos tratado de mapas de las estaciones.\n",
    "\n",
    "mapa_bases.to_csv('../data/Datos Tratados/mapa_bases_bicicletas.csv', index=False)"
   ]
  },
  {
   "cell_type": "markdown",
   "metadata": {},
   "source": [
    "## URL 5: BiciMAD. Disponibilidad de unidades (bicicletas) del servicio público de bicicleta eléctrica"
   ]
  },
  {
   "cell_type": "code",
   "execution_count": 68,
   "metadata": {},
   "outputs": [],
   "source": [
    "# Lectura de csv bases de las bicicletas de bicimad ultima actualizacion del 2020\n",
    "\n",
    "dispo_bicis = pd.read_csv('../data/Datos Originales/bici_disponibilidad20221031.csv', sep=';')"
   ]
  },
  {
   "cell_type": "code",
   "execution_count": 69,
   "metadata": {},
   "outputs": [],
   "source": [
    "# Quitamos registros nulos\n",
    "\n",
    "dispo_bicis.dropna(how='all', inplace=True)"
   ]
  },
  {
   "cell_type": "code",
   "execution_count": 70,
   "metadata": {},
   "outputs": [],
   "source": [
    "# Parse de fecha\n",
    "\n",
    "dispo_bicis['DIA'] = [datetime.strptime(i, '%d/%m/%Y') for i in dispo_bicis['DIA']]"
   ]
  },
  {
   "cell_type": "code",
   "execution_count": 71,
   "metadata": {},
   "outputs": [],
   "source": [
    "# Formateo de variables numericas y cambio de tipo\n",
    "\n",
    "dispo_bicis['HORAS_TOTALES_USOS_BICICLETAS'] = [float(i.replace('.', '').replace(',', '.')) for i in dispo_bicis['HORAS_TOTALES_USOS_BICICLETAS']]\n",
    "dispo_bicis['HORAS_TOTALES_DISPONIBILIDAD_BICICLETAS_EN _ANCLAJES'] = [float(i.replace('.', '').replace(',', '.')) for i in dispo_bicis['HORAS_TOTALES_DISPONIBILIDAD_BICICLETAS_EN _ANCLAJES']]\n",
    "dispo_bicis['TOTAL_HORAS_SERVICIO_BICICLETAS'] = [float(i.replace('.', '').replace(',', '.')) for i in dispo_bicis['TOTAL_HORAS_SERVICIO_BICICLETAS']]\n",
    "dispo_bicis['MEDIA_BICICLETAS_DISPONIBLES'] = [float(i.replace('.', '').replace(',', '.')) for i in dispo_bicis['MEDIA_BICICLETAS_DISPONIBLES']]\n",
    "dispo_bicis['USOS_ABONADO_ANUAL'] = [int(str(i).replace('.', '')) for i in dispo_bicis['USOS_ABONADO_ANUAL']]\n",
    "dispo_bicis['USOS_ABONADO_OCASIONAL'] = [int(str(i).replace('.', '')) for i in dispo_bicis['USOS_ABONADO_OCASIONAL']]\n",
    "dispo_bicis['TOTAL_USOS'] = [int(str(i).replace('.', '')) for i in dispo_bicis['TOTAL_USOS']]"
   ]
  },
  {
   "cell_type": "code",
   "execution_count": 72,
   "metadata": {},
   "outputs": [],
   "source": [
    "# Renombrar las variables\n",
    "\n",
    "dispo_bicis.rename(columns={'DIA':'fecha',\n",
    "                            'HORAS_TOTALES_USOS_BICICLETAS':'horas_uso_bicis',\n",
    "                            'HORAS_TOTALES_DISPONIBILIDAD_BICICLETAS_EN _ANCLAJES':'horas_dispo_bicis_anclaje',\n",
    "                            'TOTAL_HORAS_SERVICIO_BICICLETAS':'horas_total_serv_bicis',\n",
    "                            'MEDIA_BICICLETAS_DISPONIBLES':'media_dispo_bicis',\n",
    "                            'USOS_ABONADO_ANUAL':'uso_ab_anual',\n",
    "                            'USOS_ABONADO_OCASIONAL':'uso_ab_ocas',\n",
    "                            'TOTAL_USOS':'total_uso'\n",
    "                            }, inplace=True)"
   ]
  },
  {
   "cell_type": "markdown",
   "metadata": {},
   "source": [
    "Variables de fechas para el análisis."
   ]
  },
  {
   "cell_type": "code",
   "execution_count": 73,
   "metadata": {},
   "outputs": [],
   "source": [
    "dispo_bicis['mes'] = [int(str(datetime.strftime(i, '%m')))  for i in dispo_bicis['fecha']]\n",
    "dispo_bicis['dia_semana'] = [int(str(datetime.strftime(i, '%w'))) for i in dispo_bicis['fecha']]\n",
    "dispo_bicis['fin_semana'] = [1 if i in [0, 6] else 0 for i in dispo_bicis['dia_semana']]"
   ]
  },
  {
   "cell_type": "code",
   "execution_count": 74,
   "metadata": {},
   "outputs": [],
   "source": [
    "# Reordenar variables\n",
    "\n",
    "ispo_bicis = dispo_bicis.loc[:, ['fecha',\n",
    "                                  'mes',\n",
    "                                  'dia_semana',\n",
    "                                  'fin_semana',\n",
    "                                  'horas_uso_bicis',\n",
    "                                  'horas_dispo_bicis_anclaje',\n",
    "                                  'horas_total_serv_bicis',\n",
    "                                  'media_dispo_bicis',\n",
    "                                  'uso_ab_anual',\n",
    "                                  'uso_ab_ocas',\n",
    "                                  'total_uso']]"
   ]
  },
  {
   "cell_type": "code",
   "execution_count": 75,
   "metadata": {},
   "outputs": [
    {
     "data": {
      "text/html": [
       "<div>\n",
       "<style scoped>\n",
       "    .dataframe tbody tr th:only-of-type {\n",
       "        vertical-align: middle;\n",
       "    }\n",
       "\n",
       "    .dataframe tbody tr th {\n",
       "        vertical-align: top;\n",
       "    }\n",
       "\n",
       "    .dataframe thead th {\n",
       "        text-align: right;\n",
       "    }\n",
       "</style>\n",
       "<table border=\"1\" class=\"dataframe\">\n",
       "  <thead>\n",
       "    <tr style=\"text-align: right;\">\n",
       "      <th></th>\n",
       "      <th>fecha</th>\n",
       "      <th>horas_uso_bicis</th>\n",
       "      <th>horas_dispo_bicis_anclaje</th>\n",
       "      <th>horas_total_serv_bicis</th>\n",
       "      <th>media_dispo_bicis</th>\n",
       "      <th>uso_ab_anual</th>\n",
       "      <th>uso_ab_ocas</th>\n",
       "      <th>total_uso</th>\n",
       "      <th>mes</th>\n",
       "      <th>dia_semana</th>\n",
       "      <th>fin_semana</th>\n",
       "    </tr>\n",
       "  </thead>\n",
       "  <tbody>\n",
       "    <tr>\n",
       "      <th>0</th>\n",
       "      <td>2015-08-10</td>\n",
       "      <td>3991.13</td>\n",
       "      <td>19894.18</td>\n",
       "      <td>23885.31</td>\n",
       "      <td>995.22</td>\n",
       "      <td>7986</td>\n",
       "      <td>1890</td>\n",
       "      <td>8175</td>\n",
       "      <td>8</td>\n",
       "      <td>1</td>\n",
       "      <td>0</td>\n",
       "    </tr>\n",
       "    <tr>\n",
       "      <th>1</th>\n",
       "      <td>2015-08-11</td>\n",
       "      <td>4364.40</td>\n",
       "      <td>19817.30</td>\n",
       "      <td>24181.70</td>\n",
       "      <td>1007.57</td>\n",
       "      <td>875</td>\n",
       "      <td>1910</td>\n",
       "      <td>8941</td>\n",
       "      <td>8</td>\n",
       "      <td>2</td>\n",
       "      <td>0</td>\n",
       "    </tr>\n",
       "    <tr>\n",
       "      <th>2</th>\n",
       "      <td>2015-08-12</td>\n",
       "      <td>4633.72</td>\n",
       "      <td>19725.32</td>\n",
       "      <td>24359.04</td>\n",
       "      <td>1014.96</td>\n",
       "      <td>9132</td>\n",
       "      <td>2510</td>\n",
       "      <td>9383</td>\n",
       "      <td>8</td>\n",
       "      <td>3</td>\n",
       "      <td>0</td>\n",
       "    </tr>\n",
       "    <tr>\n",
       "      <th>3</th>\n",
       "      <td>2015-08-13</td>\n",
       "      <td>4498.85</td>\n",
       "      <td>19530.97</td>\n",
       "      <td>24029.82</td>\n",
       "      <td>1001.24</td>\n",
       "      <td>8974</td>\n",
       "      <td>2360</td>\n",
       "      <td>921</td>\n",
       "      <td>8</td>\n",
       "      <td>4</td>\n",
       "      <td>0</td>\n",
       "    </tr>\n",
       "    <tr>\n",
       "      <th>4</th>\n",
       "      <td>2015-08-14</td>\n",
       "      <td>4309.22</td>\n",
       "      <td>22770.43</td>\n",
       "      <td>27079.65</td>\n",
       "      <td>1128.32</td>\n",
       "      <td>8165</td>\n",
       "      <td>2310</td>\n",
       "      <td>8396</td>\n",
       "      <td>8</td>\n",
       "      <td>5</td>\n",
       "      <td>0</td>\n",
       "    </tr>\n",
       "  </tbody>\n",
       "</table>\n",
       "</div>"
      ],
      "text/plain": [
       "       fecha  horas_uso_bicis  horas_dispo_bicis_anclaje  \\\n",
       "0 2015-08-10          3991.13                   19894.18   \n",
       "1 2015-08-11          4364.40                   19817.30   \n",
       "2 2015-08-12          4633.72                   19725.32   \n",
       "3 2015-08-13          4498.85                   19530.97   \n",
       "4 2015-08-14          4309.22                   22770.43   \n",
       "\n",
       "   horas_total_serv_bicis  media_dispo_bicis  uso_ab_anual  uso_ab_ocas  \\\n",
       "0                23885.31             995.22          7986         1890   \n",
       "1                24181.70            1007.57           875         1910   \n",
       "2                24359.04            1014.96          9132         2510   \n",
       "3                24029.82            1001.24          8974         2360   \n",
       "4                27079.65            1128.32          8165         2310   \n",
       "\n",
       "   total_uso  mes  dia_semana  fin_semana  \n",
       "0       8175    8           1           0  \n",
       "1       8941    8           2           0  \n",
       "2       9383    8           3           0  \n",
       "3        921    8           4           0  \n",
       "4       8396    8           5           0  "
      ]
     },
     "execution_count": 75,
     "metadata": {},
     "output_type": "execute_result"
    }
   ],
   "source": [
    "dispo_bicis.head()"
   ]
  },
  {
   "cell_type": "code",
   "execution_count": 76,
   "metadata": {},
   "outputs": [],
   "source": [
    "# Base de datos tratado de disposición de bicletas resumen por día.\n",
    "\n",
    "dispo_bicis.to_csv('../data/Datos Tratados/dispo_bicis_2022.csv', index=False)"
   ]
  },
  {
   "cell_type": "markdown",
   "metadata": {},
   "source": [
    "## URL 6: Aforo de Personas y Bicicletas"
   ]
  },
  {
   "cell_type": "markdown",
   "metadata": {},
   "source": [
    "### Bicicletas"
   ]
  },
  {
   "cell_type": "code",
   "execution_count": 77,
   "metadata": {},
   "outputs": [],
   "source": [
    "# Lectura de csv bases uso de bicicletas \n",
    "\n",
    "aforo_bicicletas_2022 = pd.read_csv('../data/Datos Originales/Aforo Personas y Bicicletas/BICICLETAS_2022.csv', sep=';')\n",
    "aforo_bicicletas_2023 = pd.read_csv('../data/Datos Originales/Aforo Personas y Bicicletas/BICICLETAS_2023.csv', sep=';')"
   ]
  },
  {
   "cell_type": "code",
   "execution_count": 78,
   "metadata": {},
   "outputs": [],
   "source": [
    "# Quitamos las variables que no necesitamos\n",
    "\n",
    "aforo_bicicletas_2022.drop(axis=1,\n",
    "                         columns=['observaciones_direccion',\n",
    "                                  'identificador',\n",
    "                                  'device_id',\n",
    "                                  'NÃºmero_distrito',\n",
    "                                  'distrito',\n",
    "                                  'hora'], inplace=True)\n",
    "\n",
    "aforo_bicicletas_2023.drop(axis=1,\n",
    "                         columns=['observaciones_direccion',\n",
    "                                  'identificador',\n",
    "                                  'device_id',\n",
    "                                  'NÃºmero_distrito',\n",
    "                                  'distrito',\n",
    "                                  'hora'], inplace=True)"
   ]
  },
  {
   "cell_type": "markdown",
   "metadata": {},
   "source": [
    "Formateo de variables de fecha."
   ]
  },
  {
   "cell_type": "code",
   "execution_count": 79,
   "metadata": {},
   "outputs": [],
   "source": [
    "#2022 \n",
    "aforo_bicicletas_2022['fecha_hora'] = [datetime.strptime(i, '%d/%m/%Y %H:%M') for i in aforo_bicicletas_2022['fecha']]\n",
    "aforo_bicicletas_2022['fecha'] = [datetime.strftime(i, '%Y-%m-%d')  for i in aforo_bicicletas_2022['fecha_hora']]\n",
    "aforo_bicicletas_2022['mes'] = [int(str(datetime.strftime(i, '%m')))  for i in aforo_bicicletas_2022['fecha_hora']]\n",
    "aforo_bicicletas_2022['hora_min'] = [datetime.strftime(i, '%H:%M') for i in aforo_bicicletas_2022['fecha_hora']]\n",
    "aforo_bicicletas_2022['dia_semana'] = [int(str(datetime.strftime(i, '%w'))) for i in aforo_bicicletas_2022['fecha_hora']]\n",
    "aforo_bicicletas_2022['fin_semana'] = [1 if i in [0, 6] else 0 for i in aforo_bicicletas_2022['dia_semana']]\n",
    "aforo_bicicletas_2022['latitude'] = [u.limpiar_coordenadas(x) for x in aforo_bicicletas_2022['latitude']]    \n",
    "aforo_bicicletas_2022['longitude'] = [u.limpiar_coordenadas(x) for x in aforo_bicicletas_2022['longitude']]    \n",
    "aforo_bicicletas_2022['hora'] = [int(datetime.strftime(i, '%H')) for i in aforo_bicicletas_2022['fecha_hora']]\n",
    "\n",
    "#2024\n",
    "aforo_bicicletas_2023['fecha_hora'] = [datetime.strptime(i, '%d/%m/%Y %H:%M') for i in aforo_bicicletas_2023['fecha']]\n",
    "aforo_bicicletas_2023['fecha'] = [datetime.strftime(i, '%Y-%m-%d')  for i in aforo_bicicletas_2023['fecha_hora']]\n",
    "aforo_bicicletas_2023['mes'] = [int(str(datetime.strftime(i, '%m')))  for i in aforo_bicicletas_2023['fecha_hora']]\n",
    "aforo_bicicletas_2023['hora'] = [datetime.strftime(i, '%H:%M') for i in aforo_bicicletas_2023['fecha_hora']]\n",
    "aforo_bicicletas_2023['dia_semana'] = [int(str(datetime.strftime(i, '%w'))) for i in aforo_bicicletas_2023['fecha_hora']]\n",
    "aforo_bicicletas_2023['fin_semana'] = [1 if i in [0, 6] else 0 for i in aforo_bicicletas_2023['dia_semana']]\n",
    "aforo_bicicletas_2023['latitude'] = [u.limpiar_coordenadas(x) for x in aforo_bicicletas_2023['latitude']]    \n",
    "aforo_bicicletas_2023['longitude'] = [u.limpiar_coordenadas(x) for x in aforo_bicicletas_2023['longitude']]  "
   ]
  },
  {
   "cell_type": "code",
   "execution_count": 80,
   "metadata": {},
   "outputs": [],
   "source": [
    "# Reordenar variables\n",
    "\n",
    "aforo_bicicletas_2022 = aforo_bicicletas_2022.loc[:, ['fecha_hora', \n",
    "                                                      'fecha', \n",
    "                                                      'mes', \n",
    "                                                      'hora_min',\n",
    "                                                      'hora', \n",
    "                                                      'dia_semana', \n",
    "                                                      'fin_semana',                            \n",
    "                                                      'bicicletas', \n",
    "                                                      'direccion', \n",
    "                                                      'latitude', \n",
    "                                                      'longitude']]\n",
    "\n",
    "aforo_bicicletas_2023 = aforo_bicicletas_2023.loc[:, ['fecha_hora', \n",
    "                                                      'fecha', \n",
    "                                                      'mes', \n",
    "                                                      'hora', \n",
    "                                                      'dia_semana', \n",
    "                                                      'fin_semana',                            \n",
    "                                                      'bicicletas', \n",
    "                                                      'direccion', \n",
    "                                                      'latitude', \n",
    "                                                      'longitude']]"
   ]
  },
  {
   "cell_type": "code",
   "execution_count": 81,
   "metadata": {},
   "outputs": [
    {
     "data": {
      "text/plain": [
       "fecha_hora    False\n",
       "fecha         False\n",
       "mes           False\n",
       "hora_min      False\n",
       "hora          False\n",
       "dia_semana    False\n",
       "fin_semana    False\n",
       "bicicletas    False\n",
       "direccion     False\n",
       "latitude      False\n",
       "longitude     False\n",
       "dtype: bool"
      ]
     },
     "execution_count": 81,
     "metadata": {},
     "output_type": "execute_result"
    }
   ],
   "source": [
    "aforo_bicicletas_2022.isnull().any()"
   ]
  },
  {
   "cell_type": "code",
   "execution_count": 82,
   "metadata": {},
   "outputs": [
    {
     "data": {
      "text/plain": [
       "fecha_hora    False\n",
       "fecha         False\n",
       "mes           False\n",
       "hora          False\n",
       "dia_semana    False\n",
       "fin_semana    False\n",
       "bicicletas     True\n",
       "direccion     False\n",
       "latitude      False\n",
       "longitude     False\n",
       "dtype: bool"
      ]
     },
     "execution_count": 82,
     "metadata": {},
     "output_type": "execute_result"
    }
   ],
   "source": [
    "# Aforo de bicicletas 2023 tiene nulos por lo que quitamos los registros nulos\n",
    "\n",
    "aforo_bicicletas_2023.isnull().any()"
   ]
  },
  {
   "cell_type": "code",
   "execution_count": 83,
   "metadata": {},
   "outputs": [],
   "source": [
    "aforo_bicicletas_2023.dropna(inplace=True)"
   ]
  },
  {
   "cell_type": "code",
   "execution_count": 84,
   "metadata": {},
   "outputs": [],
   "source": [
    "# Reemplazar los valores de letras mal codificadas\n",
    "\n",
    "aforo_bicicletas_2022['direccion'] = aforo_bicicletas_2022['direccion'].apply(u.corregir_letras)\n",
    "\n",
    "aforo_bicicletas_2023['direccion'] = aforo_bicicletas_2023['direccion'].apply(u.corregir_letras)"
   ]
  },
  {
   "cell_type": "code",
   "execution_count": 85,
   "metadata": {},
   "outputs": [],
   "source": [
    "# Base de datos tratado de aforo de bicletas resumen por día.\n",
    "\n",
    "aforo_bicicletas_2022.to_csv('../data/Datos Tratados/aforo_bicicletas_2022.csv', index=False)\n",
    "aforo_bicicletas_2023.to_csv('../data/Datos Tratados/aforo_bicicletas_2023.csv', index=False)"
   ]
  },
  {
   "cell_type": "markdown",
   "metadata": {},
   "source": [
    "### Personas"
   ]
  },
  {
   "cell_type": "code",
   "execution_count": 86,
   "metadata": {},
   "outputs": [],
   "source": [
    "# Lectura de csv de aforo de las personas\n",
    "\n",
    "aforo_personas_2022 = pd.read_csv('../data/Datos Originales/Aforo Personas y Bicicletas/PEATONES_2022.csv', sep=';')\n",
    "aforo_personas_2023 = pd.read_csv('../data/Datos Originales/Aforo Personas y Bicicletas/PEATONES_2023.csv', sep=';')"
   ]
  },
  {
   "cell_type": "code",
   "execution_count": 87,
   "metadata": {},
   "outputs": [],
   "source": [
    "# nos quedamos con las variables necesarias\n",
    "\n",
    "aforo_personas_2022.drop(axis=1,\n",
    "                         columns=['observaciones_direccion',\n",
    "                                  'identificador',\n",
    "                                  'device_id',\n",
    "                                  'NÃºmero_distrito',\n",
    "                                  'distrito',\n",
    "                                  'hora'], inplace=True)\n",
    "\n",
    "aforo_personas_2023.drop(axis=1,\n",
    "                         columns=['observaciones_direccion',\n",
    "                                  'identificador',\n",
    "                                  'device_id',\n",
    "                                  'NÃºmero_distrito',\n",
    "                                  'distrito',\n",
    "                                  'hora'], inplace=True)"
   ]
  },
  {
   "cell_type": "markdown",
   "metadata": {},
   "source": [
    "Formateo de variables de fecha."
   ]
  },
  {
   "cell_type": "code",
   "execution_count": 88,
   "metadata": {},
   "outputs": [],
   "source": [
    "#2022\n",
    "aforo_personas_2022['fecha_hora'] = [datetime.strptime(i, '%d/%m/%Y %H:%M') for i in aforo_personas_2022['fecha']]\n",
    "aforo_personas_2022['fecha'] = [datetime.strftime(i, '%Y-%m-%d')  for i in aforo_personas_2022['fecha_hora']]\n",
    "aforo_personas_2022['mes'] = [int(str(datetime.strftime(i, '%m')))  for i in aforo_personas_2022['fecha_hora']]\n",
    "aforo_personas_2022['hora_min'] = [datetime.strftime(i, '%H:%M') for i in aforo_personas_2022['fecha_hora']]\n",
    "aforo_personas_2022['dia_semana'] = [int(str(datetime.strftime(i, '%w'))) for i in aforo_personas_2022['fecha_hora']]\n",
    "aforo_personas_2022['fin_semana'] = [1 if i in [0, 6] else 0 for i in aforo_personas_2022['dia_semana']]\n",
    "aforo_personas_2022['latitude'] = [u.limpiar_coordenadas(x) for x in aforo_personas_2022['latitude']]    \n",
    "aforo_personas_2022['longitude'] = [u.limpiar_coordenadas(x) for x in aforo_personas_2022['longitude']] \n",
    "aforo_personas_2022['hora'] = [int(datetime.strftime(i, '%H')) for i in aforo_personas_2022['fecha_hora']]\n",
    "\n",
    "#2024\n",
    "aforo_personas_2023['fecha_hora'] = [datetime.strptime(i, '%d/%m/%Y %H:%M') for i in aforo_personas_2023['fecha']]\n",
    "aforo_personas_2023['fecha'] = [datetime.strftime(i, '%Y-%m-%d')  for i in aforo_personas_2023['fecha_hora']]\n",
    "aforo_personas_2023['mes'] = [int(str(datetime.strftime(i, '%m')))  for i in aforo_personas_2023['fecha_hora']]\n",
    "aforo_personas_2023['hora'] = [datetime.strftime(i, '%H:%M') for i in aforo_personas_2023['fecha_hora']]\n",
    "aforo_personas_2023['dia_semana'] = [int(str(datetime.strftime(i, '%w'))) for i in aforo_personas_2023['fecha_hora']]\n",
    "aforo_personas_2023['fin_semana'] = [1 if i in [0, 6] else 0 for i in aforo_personas_2023['dia_semana']]\n",
    "aforo_personas_2023['latitude'] = [u.limpiar_coordenadas(x) for x in aforo_personas_2023['latitude']]    \n",
    "aforo_personas_2023['longitude'] = [u.limpiar_coordenadas(x) for x in aforo_personas_2023['longitude']]  "
   ]
  },
  {
   "cell_type": "code",
   "execution_count": 89,
   "metadata": {},
   "outputs": [],
   "source": [
    "# Reordenar varaiables\n",
    "\n",
    "aforo_personas_2022 = aforo_personas_2022.loc[:, ['fecha_hora', \n",
    "                                                      'fecha', \n",
    "                                                      'mes',\n",
    "                                                      'hora_min', \n",
    "                                                      'hora', \n",
    "                                                      'dia_semana', \n",
    "                                                      'fin_semana',                            \n",
    "                                                      'peatones', \n",
    "                                                      'direccion', \n",
    "                                                      'latitude', \n",
    "                                                      'longitude']]\n",
    "\n",
    "aforo_personas_2023 = aforo_personas_2023.loc[:, ['fecha_hora', \n",
    "                                                      'fecha', \n",
    "                                                      'mes', \n",
    "                                                      'hora', \n",
    "                                                      'dia_semana', \n",
    "                                                      'fin_semana',                            \n",
    "                                                      'peatones', \n",
    "                                                      'direccion', \n",
    "                                                      'latitude', \n",
    "                                                      'longitude']]"
   ]
  },
  {
   "cell_type": "code",
   "execution_count": 90,
   "metadata": {},
   "outputs": [
    {
     "data": {
      "text/plain": [
       "fecha_hora    False\n",
       "fecha         False\n",
       "mes           False\n",
       "hora_min      False\n",
       "hora          False\n",
       "dia_semana    False\n",
       "fin_semana    False\n",
       "peatones      False\n",
       "direccion     False\n",
       "latitude      False\n",
       "longitude     False\n",
       "dtype: bool"
      ]
     },
     "execution_count": 90,
     "metadata": {},
     "output_type": "execute_result"
    }
   ],
   "source": [
    "aforo_personas_2022.isnull().any()"
   ]
  },
  {
   "cell_type": "code",
   "execution_count": 91,
   "metadata": {},
   "outputs": [
    {
     "data": {
      "text/plain": [
       "fecha_hora    False\n",
       "fecha         False\n",
       "mes           False\n",
       "hora          False\n",
       "dia_semana    False\n",
       "fin_semana    False\n",
       "peatones       True\n",
       "direccion     False\n",
       "latitude      False\n",
       "longitude     False\n",
       "dtype: bool"
      ]
     },
     "execution_count": 91,
     "metadata": {},
     "output_type": "execute_result"
    }
   ],
   "source": [
    "# Aforo de personas 2023 tiene nulos por lo que quitamos los registros nulos\n",
    "\n",
    "aforo_personas_2023.isnull().any()"
   ]
  },
  {
   "cell_type": "code",
   "execution_count": 92,
   "metadata": {},
   "outputs": [],
   "source": [
    "aforo_personas_2023.dropna(inplace=True)"
   ]
  },
  {
   "cell_type": "code",
   "execution_count": 93,
   "metadata": {},
   "outputs": [],
   "source": [
    "# Reemplazar los valores de letras mal codificadas\n",
    "\n",
    "aforo_personas_2022['direccion'] = aforo_personas_2022['direccion'].apply(u.corregir_letras)\n",
    "\n",
    "aforo_personas_2023['direccion'] = aforo_personas_2023['direccion'].apply(u.corregir_letras)"
   ]
  },
  {
   "cell_type": "code",
   "execution_count": 94,
   "metadata": {},
   "outputs": [
    {
     "data": {
      "text/html": [
       "<div>\n",
       "<style scoped>\n",
       "    .dataframe tbody tr th:only-of-type {\n",
       "        vertical-align: middle;\n",
       "    }\n",
       "\n",
       "    .dataframe tbody tr th {\n",
       "        vertical-align: top;\n",
       "    }\n",
       "\n",
       "    .dataframe thead th {\n",
       "        text-align: right;\n",
       "    }\n",
       "</style>\n",
       "<table border=\"1\" class=\"dataframe\">\n",
       "  <thead>\n",
       "    <tr style=\"text-align: right;\">\n",
       "      <th></th>\n",
       "      <th>fecha_hora</th>\n",
       "      <th>fecha</th>\n",
       "      <th>mes</th>\n",
       "      <th>hora_min</th>\n",
       "      <th>hora</th>\n",
       "      <th>dia_semana</th>\n",
       "      <th>fin_semana</th>\n",
       "      <th>peatones</th>\n",
       "      <th>direccion</th>\n",
       "      <th>latitude</th>\n",
       "      <th>longitude</th>\n",
       "    </tr>\n",
       "  </thead>\n",
       "  <tbody>\n",
       "    <tr>\n",
       "      <th>0</th>\n",
       "      <td>2022-09-01 00:00:00</td>\n",
       "      <td>2022-09-01</td>\n",
       "      <td>9</td>\n",
       "      <td>00:00</td>\n",
       "      <td>0</td>\n",
       "      <td>4</td>\n",
       "      <td>0</td>\n",
       "      <td>136</td>\n",
       "      <td>Calle Fuencarral 22, 28004 Madrid</td>\n",
       "      <td>40.422009</td>\n",
       "      <td>-3.700892</td>\n",
       "    </tr>\n",
       "    <tr>\n",
       "      <th>1</th>\n",
       "      <td>2022-09-01 01:00:00</td>\n",
       "      <td>2022-09-01</td>\n",
       "      <td>9</td>\n",
       "      <td>01:00</td>\n",
       "      <td>1</td>\n",
       "      <td>4</td>\n",
       "      <td>0</td>\n",
       "      <td>129</td>\n",
       "      <td>Calle Fuencarral 22, 28004 Madrid</td>\n",
       "      <td>40.422009</td>\n",
       "      <td>-3.700892</td>\n",
       "    </tr>\n",
       "    <tr>\n",
       "      <th>2</th>\n",
       "      <td>2022-09-01 02:00:00</td>\n",
       "      <td>2022-09-01</td>\n",
       "      <td>9</td>\n",
       "      <td>02:00</td>\n",
       "      <td>2</td>\n",
       "      <td>4</td>\n",
       "      <td>0</td>\n",
       "      <td>138</td>\n",
       "      <td>Calle Fuencarral 22, 28004 Madrid</td>\n",
       "      <td>40.422009</td>\n",
       "      <td>-3.700892</td>\n",
       "    </tr>\n",
       "    <tr>\n",
       "      <th>3</th>\n",
       "      <td>2022-09-01 03:00:00</td>\n",
       "      <td>2022-09-01</td>\n",
       "      <td>9</td>\n",
       "      <td>03:00</td>\n",
       "      <td>3</td>\n",
       "      <td>4</td>\n",
       "      <td>0</td>\n",
       "      <td>244</td>\n",
       "      <td>Calle Fuencarral 22, 28004 Madrid</td>\n",
       "      <td>40.422009</td>\n",
       "      <td>-3.700892</td>\n",
       "    </tr>\n",
       "    <tr>\n",
       "      <th>4</th>\n",
       "      <td>2022-09-01 04:00:00</td>\n",
       "      <td>2022-09-01</td>\n",
       "      <td>9</td>\n",
       "      <td>04:00</td>\n",
       "      <td>4</td>\n",
       "      <td>4</td>\n",
       "      <td>0</td>\n",
       "      <td>527</td>\n",
       "      <td>Calle Fuencarral 22, 28004 Madrid</td>\n",
       "      <td>40.422009</td>\n",
       "      <td>-3.700892</td>\n",
       "    </tr>\n",
       "  </tbody>\n",
       "</table>\n",
       "</div>"
      ],
      "text/plain": [
       "           fecha_hora       fecha  mes hora_min  hora  dia_semana  fin_semana  \\\n",
       "0 2022-09-01 00:00:00  2022-09-01    9    00:00     0           4           0   \n",
       "1 2022-09-01 01:00:00  2022-09-01    9    01:00     1           4           0   \n",
       "2 2022-09-01 02:00:00  2022-09-01    9    02:00     2           4           0   \n",
       "3 2022-09-01 03:00:00  2022-09-01    9    03:00     3           4           0   \n",
       "4 2022-09-01 04:00:00  2022-09-01    9    04:00     4           4           0   \n",
       "\n",
       "   peatones                          direccion   latitude  longitude  \n",
       "0       136  Calle Fuencarral 22, 28004 Madrid  40.422009  -3.700892  \n",
       "1       129  Calle Fuencarral 22, 28004 Madrid  40.422009  -3.700892  \n",
       "2       138  Calle Fuencarral 22, 28004 Madrid  40.422009  -3.700892  \n",
       "3       244  Calle Fuencarral 22, 28004 Madrid  40.422009  -3.700892  \n",
       "4       527  Calle Fuencarral 22, 28004 Madrid  40.422009  -3.700892  "
      ]
     },
     "execution_count": 94,
     "metadata": {},
     "output_type": "execute_result"
    }
   ],
   "source": [
    "aforo_personas_2022.head()"
   ]
  },
  {
   "cell_type": "code",
   "execution_count": 95,
   "metadata": {},
   "outputs": [
    {
     "data": {
      "text/html": [
       "<div>\n",
       "<style scoped>\n",
       "    .dataframe tbody tr th:only-of-type {\n",
       "        vertical-align: middle;\n",
       "    }\n",
       "\n",
       "    .dataframe tbody tr th {\n",
       "        vertical-align: top;\n",
       "    }\n",
       "\n",
       "    .dataframe thead th {\n",
       "        text-align: right;\n",
       "    }\n",
       "</style>\n",
       "<table border=\"1\" class=\"dataframe\">\n",
       "  <thead>\n",
       "    <tr style=\"text-align: right;\">\n",
       "      <th></th>\n",
       "      <th>fecha_hora</th>\n",
       "      <th>fecha</th>\n",
       "      <th>mes</th>\n",
       "      <th>hora</th>\n",
       "      <th>dia_semana</th>\n",
       "      <th>fin_semana</th>\n",
       "      <th>peatones</th>\n",
       "      <th>direccion</th>\n",
       "      <th>latitude</th>\n",
       "      <th>longitude</th>\n",
       "    </tr>\n",
       "  </thead>\n",
       "  <tbody>\n",
       "    <tr>\n",
       "      <th>0</th>\n",
       "      <td>2023-07-16 01:00:00</td>\n",
       "      <td>2023-07-16</td>\n",
       "      <td>7</td>\n",
       "      <td>01:00</td>\n",
       "      <td>0</td>\n",
       "      <td>1</td>\n",
       "      <td>984.0</td>\n",
       "      <td>Calle Arenal esquina San Martín</td>\n",
       "      <td>40.417386</td>\n",
       "      <td>-3.707141</td>\n",
       "    </tr>\n",
       "    <tr>\n",
       "      <th>1</th>\n",
       "      <td>2023-07-16 02:00:00</td>\n",
       "      <td>2023-07-16</td>\n",
       "      <td>7</td>\n",
       "      <td>02:00</td>\n",
       "      <td>0</td>\n",
       "      <td>1</td>\n",
       "      <td>601.0</td>\n",
       "      <td>Calle Arenal esquina San Martín</td>\n",
       "      <td>40.417386</td>\n",
       "      <td>-3.707141</td>\n",
       "    </tr>\n",
       "    <tr>\n",
       "      <th>2</th>\n",
       "      <td>2023-07-16 03:00:00</td>\n",
       "      <td>2023-07-16</td>\n",
       "      <td>7</td>\n",
       "      <td>03:00</td>\n",
       "      <td>0</td>\n",
       "      <td>1</td>\n",
       "      <td>399.0</td>\n",
       "      <td>Calle Arenal esquina San Martín</td>\n",
       "      <td>40.417386</td>\n",
       "      <td>-3.707141</td>\n",
       "    </tr>\n",
       "    <tr>\n",
       "      <th>3</th>\n",
       "      <td>2023-07-16 04:00:00</td>\n",
       "      <td>2023-07-16</td>\n",
       "      <td>7</td>\n",
       "      <td>04:00</td>\n",
       "      <td>0</td>\n",
       "      <td>1</td>\n",
       "      <td>300.0</td>\n",
       "      <td>Calle Arenal esquina San Martín</td>\n",
       "      <td>40.417386</td>\n",
       "      <td>-3.707141</td>\n",
       "    </tr>\n",
       "    <tr>\n",
       "      <th>4</th>\n",
       "      <td>2023-07-16 05:00:00</td>\n",
       "      <td>2023-07-16</td>\n",
       "      <td>7</td>\n",
       "      <td>05:00</td>\n",
       "      <td>0</td>\n",
       "      <td>1</td>\n",
       "      <td>149.0</td>\n",
       "      <td>Calle Arenal esquina San Martín</td>\n",
       "      <td>40.417386</td>\n",
       "      <td>-3.707141</td>\n",
       "    </tr>\n",
       "  </tbody>\n",
       "</table>\n",
       "</div>"
      ],
      "text/plain": [
       "           fecha_hora       fecha  mes   hora  dia_semana  fin_semana  \\\n",
       "0 2023-07-16 01:00:00  2023-07-16    7  01:00           0           1   \n",
       "1 2023-07-16 02:00:00  2023-07-16    7  02:00           0           1   \n",
       "2 2023-07-16 03:00:00  2023-07-16    7  03:00           0           1   \n",
       "3 2023-07-16 04:00:00  2023-07-16    7  04:00           0           1   \n",
       "4 2023-07-16 05:00:00  2023-07-16    7  05:00           0           1   \n",
       "\n",
       "   peatones                        direccion   latitude  longitude  \n",
       "0     984.0  Calle Arenal esquina San Martín  40.417386  -3.707141  \n",
       "1     601.0  Calle Arenal esquina San Martín  40.417386  -3.707141  \n",
       "2     399.0  Calle Arenal esquina San Martín  40.417386  -3.707141  \n",
       "3     300.0  Calle Arenal esquina San Martín  40.417386  -3.707141  \n",
       "4     149.0  Calle Arenal esquina San Martín  40.417386  -3.707141  "
      ]
     },
     "execution_count": 95,
     "metadata": {},
     "output_type": "execute_result"
    }
   ],
   "source": [
    "aforo_personas_2023.head()"
   ]
  },
  {
   "cell_type": "code",
   "execution_count": 96,
   "metadata": {},
   "outputs": [],
   "source": [
    "# Base de datos tratado de aforo de personas resumen por día.\n",
    "\n",
    "aforo_personas_2022.to_csv('../data/Datos Tratados/aforo_personas_2022.csv', index=False)\n",
    "aforo_personas_2023.to_csv('../data/Datos Tratados/aforo_personas_2023.csv', index=False)"
   ]
  },
  {
   "cell_type": "markdown",
   "metadata": {},
   "source": [
    "## URL 7: Afluencia Turistas 2022"
   ]
  },
  {
   "cell_type": "code",
   "execution_count": 97,
   "metadata": {},
   "outputs": [],
   "source": [
    "# Lectura de csv de turistas por mes en comunidad de Madrid\n",
    "\n",
    "turistas_2022 = pd.read_csv('../data/Datos Originales/Flujo_Turistas_2022.csv', sep=';', encoding='latin-1')"
   ]
  },
  {
   "cell_type": "code",
   "execution_count": 98,
   "metadata": {},
   "outputs": [],
   "source": [
    "# Nos quedamos con las variables que necesitamos y renombramos\n",
    "\n",
    "turistas_2022.drop(axis=1,\n",
    "                   columns=['Comunidades autónomas', \n",
    "                            'Tipo de dato'], inplace=True)\n",
    "\n",
    "turistas_2022.rename(columns={'Total':'num_turistas',\n",
    "                              'Periodo':'periodo'}, inplace=True)"
   ]
  },
  {
   "cell_type": "code",
   "execution_count": 99,
   "metadata": {},
   "outputs": [],
   "source": [
    "# Formateo de fechas\n",
    "\n",
    "turistas_2022['mes'] = [int(x.split('M')[1]) for x in turistas_2022['periodo']]\n",
    "turistas_2022['periodo'] = turistas_2022['periodo'].str.replace('M', '')\n",
    "turistas_2022['periodo'] = [datetime.strptime(i, '%Y%m').strftime('%Y-%m') for i in turistas_2022['periodo']]\n",
    "turistas_2022['num_turistas'] = [int(float(i.replace('.', '').replace(',', '.'))) for i in turistas_2022['num_turistas']]"
   ]
  },
  {
   "cell_type": "code",
   "execution_count": 100,
   "metadata": {},
   "outputs": [],
   "source": [
    "# Reordenar las varaibles\n",
    "\n",
    "turistas_2022 = turistas_2022.loc[:, ['periodo',\n",
    "                                      'mes',\n",
    "                                      'num_turistas']]"
   ]
  },
  {
   "cell_type": "code",
   "execution_count": 101,
   "metadata": {},
   "outputs": [],
   "source": [
    "# Base de datos tratado de turistas\n",
    "\n",
    "turistas_2022.to_csv('../data/Datos Tratados/turistas_2022.csv', index=False)"
   ]
  }
 ],
 "metadata": {
  "kernelspec": {
   "display_name": "Python 3",
   "language": "python",
   "name": "python3"
  },
  "language_info": {
   "codemirror_mode": {
    "name": "ipython",
    "version": 3
   },
   "file_extension": ".py",
   "mimetype": "text/x-python",
   "name": "python",
   "nbconvert_exporter": "python",
   "pygments_lexer": "ipython3",
   "version": "3.13.1"
  }
 },
 "nbformat": 4,
 "nbformat_minor": 2
}
